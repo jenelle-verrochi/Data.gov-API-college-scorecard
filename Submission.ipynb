{
 "cells": [
  {
   "cell_type": "markdown",
   "metadata": {},
   "source": [
    "# Project 4\n",
    "\n",
    "For my project, I pulled down college scorecard data from the Data.gov API.  Specifically I pulled down data from schools only in region 1 (NEW ENGLAND). The fields I pulled and evaluated are listed below, and I created two clustering models using Kmeans.  \n",
    "\n",
    "    id  \n",
    "    school.name  \n",
    "    school.state  \n",
    "    2013.student.size  \n",
    "    2013.aid.median_debt.completers.overall  \n",
    "    2013.repayment.1_yr_repayment.completers  \n",
    "    2013.earnings.10_yrs_after_entry.working_not_enrolled.mean_earnings  \n",
    "    school.locale  \n",
    "    school.religious_affiliation  \n",
    "\n",
    "\n",
    "\n",
    "\n",
    "In my first model, I used the 4 variables below and imputed the median for all null values.  \n",
    "\n",
    "    2013.student.size  \n",
    "    2013.aid.median_debt.completers.overall  \n",
    "    2013.repayment.1_yr_repayment.completers  \n",
    "    2013.earnings.10_yrs_after_entry.working_not_enrolled.mean_earnings  \n",
    "\n",
    "\n",
    "\n",
    "In my second model, I used only the most telling variables below.  I also removed the null values rather than imputing to see if the clusters would improve.\n",
    "\n",
    "    2013.student.size  \n",
    "    2013.aid.median_debt.completers.overall  \n",
    "    2013.earnings.10_yrs_after_entry.working_not_enrolled.mean_earnings\n",
    "\n",
    "\n",
    "\n",
    "As you scroll through, you will see EDA, modeling, conclusions and insights."
   ]
  },
  {
   "cell_type": "markdown",
   "metadata": {},
   "source": [
    "# Model 1"
   ]
  },
  {
   "cell_type": "code",
   "execution_count": 455,
   "metadata": {
    "collapsed": true
   },
   "outputs": [],
   "source": [
    "import pandas as pd\n",
    "import requests\n",
    "import json\n",
    "import seaborn as sns\n",
    "import matplotlib.pyplot as plt\n",
    "%matplotlib inline"
   ]
  },
  {
   "cell_type": "code",
   "execution_count": 456,
   "metadata": {
    "collapsed": true
   },
   "outputs": [],
   "source": [
    "url0 = 'https://api.data.gov/ed/collegescorecard/v1/schools.json?&_per_page=100&_page=0&school.region_id=1&_fields=id,school.name,school.state,2013.student.size,2013.aid.median_debt.completers.overall,2013.repayment.1_yr_repayment.completers,2013.earnings.10_yrs_after_entry.working_not_enrolled.mean_earnings,school.locale,school.religious_affiliation&api_key=FRtAZMChAYuil9bJasZP58cqvPjSID3jW4Fn03lK'\n",
    "url1 = 'https://api.data.gov/ed/collegescorecard/v1/schools.json?&_per_page=100&_page=1&school.region_id=1&_fields=id,school.name,school.state,2013.student.size,2013.aid.median_debt.completers.overall,2013.repayment.1_yr_repayment.completers,2013.earnings.10_yrs_after_entry.working_not_enrolled.mean_earnings,school.locale,school.religious_affiliation&api_key=FRtAZMChAYuil9bJasZP58cqvPjSID3jW4Fn03lK'\n",
    "url2 = 'https://api.data.gov/ed/collegescorecard/v1/schools.json?&_per_page=100&_page=2&school.region_id=1&_fields=id,school.name,school.state,2013.student.size,2013.aid.median_debt.completers.overall,2013.repayment.1_yr_repayment.completers,2013.earnings.10_yrs_after_entry.working_not_enrolled.mean_earnings,school.locale,school.religious_affiliation&api_key=FRtAZMChAYuil9bJasZP58cqvPjSID3jW4Fn03lK'\n",
    "url3 = 'https://api.data.gov/ed/collegescorecard/v1/schools.json?&_per_page=100&_page=3&school.region_id=1&_fields=id,school.name,school.state,2013.student.size,2013.aid.median_debt.completers.overall,2013.repayment.1_yr_repayment.completers,2013.earnings.10_yrs_after_entry.working_not_enrolled.mean_earnings,school.locale,school.religious_affiliation&api_key=FRtAZMChAYuil9bJasZP58cqvPjSID3jW4Fn03lK'\n",
    "url4 = 'https://api.data.gov/ed/collegescorecard/v1/schools.json?&_per_page=100&_page=4&school.region_id=1&_fields=id,school.name,school.state,2013.student.size,2013.aid.median_debt.completers.overall,2013.repayment.1_yr_repayment.completers,2013.earnings.10_yrs_after_entry.working_not_enrolled.mean_earnings,school.locale,school.religious_affiliation&api_key=FRtAZMChAYuil9bJasZP58cqvPjSID3jW4Fn03lK'\n",
    "\n",
    "\n"
   ]
  },
  {
   "cell_type": "code",
   "execution_count": 457,
   "metadata": {
    "collapsed": true
   },
   "outputs": [],
   "source": [
    "res0= requests.get(url0)\n",
    "res1= requests.get(url1)\n",
    "res2= requests.get(url2)\n",
    "res3= requests.get(url3)\n",
    "res4= requests.get(url4)"
   ]
  },
  {
   "cell_type": "code",
   "execution_count": 458,
   "metadata": {},
   "outputs": [
    {
     "data": {
      "text/plain": [
       "b'{\"metadata\":{\"total\":427,\"page\":0,\"per_page\":100},\"results\":[{\"2013.repayment.1_yr_repayment.completers\":416,\"2013.earnings.10_yrs_after_entry.working_not_enrolled.mean_earnings\":37100,\"school.name\":\"Connecticut Center for Massage Therapy-Groton\",\"school.state\":\"CT\",\"id\":443483,\"school.locale\":22,\"2013.student.size\":157,\"2013.aid.median_debt.completers.overall\":7600.0,\"school.religious_affiliation\":null},{\"2013.repayment.1_yr_repayment.completers\":400,\"2013.earnings.10_yrs_after_entry.working_not_enrolled.mean_earnings\":25000,\"school.name\":\"Paul Mitchell the School-Rhode Island\",\"school.state\":\"RI\",\"id\":443641,\"school.locale\":21,\"2013.student.size\":188,\"2013.aid.median_debt.completers.overall\":10556.0,\"school.religious_affiliation\":null},{\"2013.repayment.1_yr_repayment.completers\":197,\"2013.earnings.10_yrs_after_entry.working_not_enrolled.mean_earnings\":25000,\"school.name\":\"Empire Beauty School-Framingham\",\"school.state\":\"MA\",\"id\":443678,\"school.locale\":13,\"2013.student.size\":94,\"2013.aid.median_debt.completers.overall\":9897.0,\"school.religious_affiliation\":null},{\"2013.repayment.1_yr_repayment.completers\":2360,\"2013.earnings.10_yrs_after_entry.working_not_enrolled.mean_earnings\":28000,\"school.name\":\"The Salter School-Malden Campus\",\"school.state\":\"MA\",\"id\":442815,\"school.locale\":21,\"2013.student.size\":345,\"2013.aid.median_debt.completers.overall\":8222.0,\"school.religious_affiliation\":null},{\"school.name\":\"Advanced Welding Institute\",\"school.state\":\"VT\",\"id\":456001,\"school.locale\":13,\"2013.student.size\":53,\"2013.aid.median_debt.completers.overall\":null,\"2013.repayment.1_yr_repayment.completers\":null,\"2013.earnings.10_yrs_after_entry.working_not_enrolled.mean_earnings\":null,\"school.religious_affiliation\":null},{\"school.name\":\"Rob Roy Academy - Woonsocket\",\"2013.repayment.1_yr_repayment.completers\":210,\"school.state\":\"RI\",\"id\":37369601,\"2013.earnings.10_yrs_after_entry.working_not_enrolled.mean_earnings\":23200,\"2013.aid.median_debt.completers.overall\":7281.0,\"2013.student.size\":null,\"school.locale\":null,\"school.religious_affiliation\":null},{\"school.name\":\"Cosmotech School of Cosmetology\",\"school.state\":\"ME\",\"id\":481359,\"school.locale\":22,\"2013.student.size\":45,\"2013.aid.median_debt.completers.overall\":null,\"2013.repayment.1_yr_repayment.completers\":null,\"2013.earnings.10_yrs_after_entry.working_not_enrolled.mean_earnings\":null,\"school.religious_affiliation\":null},{\"school.name\":\"MKG Beauty & Business\",\"school.state\":\"RI\",\"id\":485582,\"school.locale\":21,\"2013.student.size\":null,\"2013.aid.median_debt.completers.overall\":null,\"2013.repayment.1_yr_repayment.completers\":null,\"2013.earnings.10_yrs_after_entry.working_not_enrolled.mean_earnings\":null,\"school.religious_affiliation\":null},{\"school.name\":\"Kaplan University-Augusta Campus\",\"school.state\":\"ME\",\"id\":480064,\"school.locale\":32,\"2013.student.size\":null,\"2013.aid.median_debt.completers.overall\":null,\"2013.repayment.1_yr_repayment.completers\":null,\"2013.earnings.10_yrs_after_entry.working_not_enrolled.mean_earnings\":null,\"school.religious_affiliation\":null},{\"school.name\":\"Ridley-Lowell Business & Technical Institute\",\"school.state\":\"RI\",\"id\":483568,\"school.locale\":21,\"2013.student.size\":null,\"2013.aid.median_debt.completers.overall\":null,\"2013.repayment.1_yr_repayment.completers\":null,\"2013.earnings.10_yrs_after_entry.working_not_enrolled.mean_earnings\":null,\"school.religious_affiliation\":null},{\"2013.repayment.1_yr_repayment.completers\":2360,\"2013.earnings.10_yrs_after_entry.working_not_enrolled.mean_earnings\":28000,\"school.name\":\"Salter School-New Bedford\",\"school.state\":\"MA\",\"id\":460589,\"school.locale\":22,\"2013.student.size\":317,\"2013.aid.median_debt.completers.overall\":8222.0,\"school.religious_affiliation\":null},{\"school.name\":\"Marinello School of Beauty-Willimantic\",\"2013.repayment.1_yr_repayment.completers\":441,\"school.state\":\"CT\",\"id\":13012903,\"2013.earnings.10_yrs_after_entry.working_not_enrolled.mean_earnings\":23000,\"2013.aid.median_debt.completers.overall\":9586.5,\"2013.student.size\":null,\"school.locale\":null,\"school.religious_affiliation\":null},{\"school.name\":\"Wentworth Institute of Technology\",\"2013.repayment.1_yr_repayment.completers\":1025,\"school.state\":\"MA\",\"id\":16822701,\"2013.earnings.10_yrs_after_entry.working_not_enrolled.mean_earnings\":62300,\"2013.aid.median_debt.completers.overall\":27000.0,\"2013.student.size\":null,\"school.locale\":null,\"school.religious_affiliation\":null},{\"school.name\":\"Marinello School of Beauty-Enfield\",\"2013.repayment.1_yr_repayment.completers\":242,\"school.state\":\"CT\",\"id\":44599302,\"2013.aid.median_debt.completers.overall\":9302.0,\"2013.student.size\":null,\"2013.earnings.10_yrs_after_entry.working_not_enrolled.mean_earnings\":null,\"school.locale\":null,\"school.religious_affiliation\":null},{\"2013.repayment.1_yr_repayment.completers\":49,\"school.name\":\"Laird Institute of Spa Therapy\",\"school.state\":\"NH\",\"id\":461290,\"school.locale\":12,\"2013.student.size\":50,\"2013.aid.median_debt.completers.overall\":9307.5,\"2013.earnings.10_yrs_after_entry.working_not_enrolled.mean_earnings\":null,\"school.religious_affiliation\":null},{\"2013.repayment.1_yr_repayment.completers\":91,\"school.name\":\"Capilo School of Hair Design\",\"school.state\":\"ME\",\"id\":461704,\"school.locale\":32,\"2013.student.size\":176,\"2013.aid.median_debt.completers.overall\":8444.0,\"2013.earnings.10_yrs_after_entry.working_not_enrolled.mean_earnings\":null,\"school.religious_affiliation\":null},{\"school.name\":\"Porter and Chester Institute of Canton\",\"2013.repayment.1_yr_repayment.completers\":3428,\"school.state\":\"MA\",\"id\":13017406,\"2013.earnings.10_yrs_after_entry.working_not_enrolled.mean_earnings\":40400,\"2013.aid.median_debt.completers.overall\":12230.0,\"2013.student.size\":null,\"school.locale\":null,\"school.religious_affiliation\":null},{\"2013.repayment.1_yr_repayment.completers\":80,\"school.name\":\"Millennium Training Institute\",\"school.state\":\"MA\",\"id\":451264,\"school.locale\":21,\"2013.student.size\":177,\"2013.aid.median_debt.completers.overall\":7034.0,\"2013.earnings.10_yrs_after_entry.working_not_enrolled.mean_earnings\":null,\"school.religious_affiliation\":null},{\"2013.repayment.1_yr_repayment.completers\":53,\"school.name\":\"Academy Di Capelli-School of Cosmetology\",\"school.state\":\"CT\",\"id\":449463,\"school.locale\":21,\"2013.student.size\":29,\"2013.aid.median_debt.completers.overall\":13833.0,\"2013.earnings.10_yrs_after_entry.working_not_enrolled.mean_earnings\":null,\"school.religious_affiliation\":null},{\"2013.repayment.1_yr_repayment.completers\":529,\"2013.earnings.10_yrs_after_entry.working_not_enrolled.mean_earnings\":23100,\"school.name\":\"Stone Academy-East Hartford\",\"school.state\":\"CT\",\"id\":448619,\"school.locale\":13,\"2013.student.size\":312,\"2013.aid.median_debt.completers.overall\":13144.5,\"school.religious_affiliation\":null},{\"school.name\":\"Eli Whitney Technical High School\",\"school.state\":\"CT\",\"id\":441317,\"school.locale\":21,\"2013.student.size\":41,\"2013.earnings.10_yrs_after_entry.working_not_enrolled.mean_earnings\":46400,\"2013.aid.median_debt.completers.overall\":null,\"2013.repayment.1_yr_repayment.completers\":null,\"school.religious_affiliation\":null},{\"school.name\":\"Windham Technical High School\",\"school.state\":\"CT\",\"id\":441353,\"school.locale\":31,\"2013.student.size\":16,\"2013.aid.median_debt.completers.overall\":null,\"2013.repayment.1_yr_repayment.completers\":null,\"2013.earnings.10_yrs_after_entry.working_not_enrolled.mean_earnings\":null,\"school.religious_affiliation\":null},{\"school.name\":\"New Hampshire Institute for Therapeutic Arts\",\"2013.repayment.1_yr_repayment.completers\":14,\"school.state\":\"NH\",\"id\":183035,\"school.locale\":22,\"2013.student.size\":32,\"2013.aid.median_debt.completers.overall\":null,\"2013.earnings.10_yrs_after_entry.working_not_enrolled.mean_earnings\":null,\"school.religious_affiliation\":null},{\"school.name\":\"Platt Technical High School\",\"school.state\":\"CT\",\"id\":417275,\"school.locale\":13,\"2013.student.size\":13,\"2013.aid.median_debt.completers.overall\":null,\"2013.repayment.1_yr_repayment.completers\":null,\"2013.earnings.10_yrs_after_entry.working_not_enrolled.mean_earnings\":null,\"school.religious_affiliation\":null},{\"school.name\":\"EINE Inc\",\"school.state\":\"MA\",\"id\":410964,\"school.locale\":21,\"2013.student.size\":35,\"2013.aid.median_debt.completers.overall\":null,\"2013.repayment.1_yr_repayment.completers\":null,\"2013.earnings.10_yrs_after_entry.working_not_enrolled.mean_earnings\":null,\"school.religious_affiliation\":null},{\"2013.repayment.1_yr_repayment.completers\":1036,\"2013.earnings.10_yrs_after_entry.working_not_enrolled.mean_earnings\":25900,\"school.name\":\"Seacoast Career School-Manchester Campus\",\"school.state\":\"NH\",\"id\":447519,\"school.locale\":12,\"2013.student.size\":321,\"2013.aid.median_debt.completers.overall\":8484.0,\"school.religious_affiliation\":null},{\"2013.repayment.1_yr_repayment.completers\":403,\"2013.earnings.10_yrs_after_entry.working_not_enrolled.mean_earnings\":26700,\"school.name\":\"Spa Tech Institute-Ipswich\",\"school.state\":\"MA\",\"id\":445638,\"school.locale\":21,\"2013.student.size\":43,\"2013.aid.median_debt.completers.overall\":6333.0,\"school.religious_affiliation\":null},{\"2013.repayment.1_yr_repayment.completers\":403,\"2013.earnings.10_yrs_after_entry.working_not_enrolled.mean_earnings\":26700,\"school.name\":\"Spa Tech Institute-Westboro\",\"school.state\":\"MA\",\"id\":445647,\"school.locale\":21,\"2013.student.size\":93,\"2013.aid.median_debt.completers.overall\":6333.0,\"school.religious_affiliation\":null},{\"school.name\":\"Montpelier Center - Closed July 2013\",\"2013.repayment.1_yr_repayment.completers\":648,\"school.state\":\"VT\",\"id\":20627904,\"2013.earnings.10_yrs_after_entry.working_not_enrolled.mean_earnings\":51400,\"2013.aid.median_debt.completers.overall\":17750.0,\"2013.student.size\":null,\"school.locale\":null,\"school.religious_affiliation\":null},{\"school.name\":\"Porter and Chester Institute of Enfield\",\"2013.repayment.1_yr_repayment.completers\":3428,\"school.state\":\"CT\",\"id\":13017402,\"2013.earnings.10_yrs_after_entry.working_not_enrolled.mean_earnings\":40400,\"2013.aid.median_debt.completers.overall\":12230.0,\"2013.student.size\":null,\"school.locale\":null,\"school.religious_affiliation\":null},{\"school.name\":\"Birthwise Midwifery School\",\"2013.repayment.1_yr_repayment.completers\":12,\"school.state\":\"ME\",\"id\":442213,\"school.locale\":42,\"2013.student.size\":58,\"2013.aid.median_debt.completers.overall\":null,\"2013.earnings.10_yrs_after_entry.working_not_enrolled.mean_earnings\":null,\"school.religious_affiliation\":null},{\"2013.repayment.1_yr_repayment.completers\":4587,\"2013.earnings.10_yrs_after_entry.working_not_enrolled.mean_earnings\":30600,\"school.name\":\"Lincoln Technical Institute-Lowell\",\"school.state\":\"MA\",\"id\":440952,\"school.locale\":21,\"2013.student.size\":388,\"2013.aid.median_debt.completers.overall\":9392.0,\"school.religious_affiliation\":null},{\"school.name\":\"National Graduate School of Quality Management\",\"school.state\":\"MA\",\"id\":441478,\"school.locale\":22,\"2013.student.size\":33,\"2013.aid.median_debt.completers.overall\":null,\"2013.repayment.1_yr_repayment.completers\":null,\"2013.earnings.10_yrs_after_entry.working_not_enrolled.mean_earnings\":null,\"school.religious_affiliation\":null},{\"2013.repayment.1_yr_repayment.completers\":64,\"2013.earnings.10_yrs_after_entry.working_not_enrolled.mean_earnings\":44700,\"school.name\":\"Charter Oak State College\",\"school.state\":\"CT\",\"id\":128780,\"school.locale\":21,\"2013.student.size\":1471,\"2013.aid.median_debt.completers.overall\":16445.5,\"school.religious_affiliation\":null},{\"2013.repayment.1_yr_repayment.completers\":72,\"2013.earnings.10_yrs_after_entry.working_not_enrolled.mean_earnings\":31400,\"school.name\":\"Marlboro College Graduate & Professional Studies\",\"school.state\":\"VT\",\"id\":440411,\"school.locale\":32,\"2013.student.size\":14,\"2013.aid.median_debt.completers.overall\":25500.0,\"school.religious_affiliation\":null},{\"2013.repayment.1_yr_repayment.completers\":1036,\"2013.earnings.10_yrs_after_entry.working_not_enrolled.mean_earnings\":25900,\"school.name\":\"Seacoast Career Schools-Sanford Campus\",\"school.state\":\"ME\",\"id\":433970,\"school.locale\":32,\"2013.student.size\":254,\"2013.aid.median_debt.completers.overall\":8484.0,\"school.religious_affiliation\":null},{\"2013.repayment.1_yr_repayment.completers\":4587,\"2013.earnings.10_yrs_after_entry.working_not_enrolled.mean_earnings\":30600,\"school.name\":\"Lincoln Technical Institute-Somerville\",\"school.state\":\"MA\",\"id\":165556,\"school.locale\":21,\"2013.student.size\":331,\"2013.aid.median_debt.completers.overall\":9392.0,\"school.religious_affiliation\":null},{\"2013.repayment.1_yr_repayment.completers\":1735,\"2013.earnings.10_yrs_after_entry.working_not_enrolled.mean_earnings\":49000,\"school.name\":\"Central Connecticut State University\",\"school.state\":\"CT\",\"id\":128771,\"school.locale\":21,\"2013.student.size\":9512,\"2013.aid.median_debt.completers.overall\":22250.0,\"school.religious_affiliation\":null},{\"2013.repayment.1_yr_repayment.completers\":96,\"2013.earnings.10_yrs_after_entry.working_not_enrolled.mean_earnings\":35100,\"school.name\":\"Gateway Community College\",\"school.state\":\"CT\",\"id\":130396,\"school.locale\":12,\"2013.student.size\":7275,\"2013.aid.median_debt.completers.overall\":5500.0,\"school.religious_affiliation\":null},{\"2013.repayment.1_yr_repayment.completers\":1068,\"2013.earnings.10_yrs_after_entry.working_not_enrolled.mean_earnings\":59700,\"school.religious_affiliation\":30,\"school.name\":\"Sacred Heart University\",\"school.state\":\"CT\",\"id\":130253,\"school.locale\":21,\"2013.student.size\":4409,\"2013.aid.median_debt.completers.overall\":24500.0},{\"2013.repayment.1_yr_repayment.completers\":365,\"2013.earnings.10_yrs_after_entry.working_not_enrolled.mean_earnings\":45500,\"school.name\":\"University of Bridgeport\",\"school.state\":\"CT\",\"id\":128744,\"school.locale\":12,\"2013.student.size\":2835,\"2013.aid.median_debt.completers.overall\":27416.5,\"school.religious_affiliation\":null},{\"2013.repayment.1_yr_repayment.completers\":401,\"2013.earnings.10_yrs_after_entry.working_not_enrolled.mean_earnings\":44300,\"school.name\":\"Post University\",\"school.state\":\"CT\",\"id\":130183,\"school.locale\":22,\"2013.student.size\":6616,\"2013.aid.median_debt.completers.overall\":24450.0,\"school.religious_affiliation\":null},{\"2013.repayment.1_yr_repayment.completers\":74,\"2013.earnings.10_yrs_after_entry.working_not_enrolled.mean_earnings\":36100,\"school.name\":\"Tunxis Community College\",\"school.state\":\"CT\",\"id\":130606,\"school.locale\":21,\"2013.student.size\":3781,\"2013.aid.median_debt.completers.overall\":8000.0,\"school.religious_affiliation\":null},{\"2013.earnings.10_yrs_after_entry.working_not_enrolled.mean_earnings\":35200,\"school.name\":\"Norwalk Community College\",\"school.state\":\"CT\",\"id\":130004,\"school.locale\":13,\"2013.student.size\":5133,\"2013.aid.median_debt.completers.overall\":3500.0,\"2013.repayment.1_yr_repayment.completers\":null,\"school.religious_affiliation\":null},{\"2013.repayment.1_yr_repayment.completers\":275,\"2013.earnings.10_yrs_after_entry.working_not_enrolled.mean_earnings\":51200,\"school.religious_affiliation\":30,\"school.name\":\"University of Saint Joseph\",\"school.state\":\"CT\",\"id\":130314,\"school.locale\":13,\"2013.student.size\":971,\"2013.aid.median_debt.completers.overall\":27000.0},{\"2013.repayment.1_yr_repayment.completers\":357,\"2013.earnings.10_yrs_after_entry.working_not_enrolled.mean_earnings\":118400,\"school.name\":\"Yale University\",\"school.state\":\"CT\",\"id\":130794,\"school.locale\":12,\"2013.student.size\":5422,\"2013.aid.median_debt.completers.overall\":11486.0,\"school.religious_affiliation\":null},{\"2013.repayment.1_yr_repayment.completers\":310,\"2013.earnings.10_yrs_after_entry.working_not_enrolled.mean_earnings\":71500,\"school.name\":\"Trinity College\",\"school.state\":\"CT\",\"id\":130590,\"school.locale\":12,\"2013.student.size\":2239,\"2013.aid.median_debt.completers.overall\":21500.0,\"school.religious_affiliation\":null},{\"school.name\":\"Hartford Seminary\",\"school.state\":\"CT\",\"id\":129491,\"school.locale\":12,\"2013.student.size\":null,\"2013.aid.median_debt.completers.overall\":null,\"2013.repayment.1_yr_repayment.completers\":null,\"2013.earnings.10_yrs_after_entry.working_not_enrolled.mean_earnings\":null,\"school.religious_affiliation\":null},{\"school.name\":\"Holy Apostles College and Seminary\",\"school.state\":\"CT\",\"id\":129534,\"school.locale\":21,\"2013.student.size\":48,\"school.religious_affiliation\":30,\"2013.aid.median_debt.completers.overall\":null,\"2013.repayment.1_yr_repayment.completers\":null,\"2013.earnings.10_yrs_after_entry.working_not_enrolled.mean_earnings\":null},{\"2013.repayment.1_yr_repayment.completers\":1693,\"2013.earnings.10_yrs_after_entry.working_not_enrolled.mean_earnings\":39900,\"school.name\":\"New England Tractor Trailer Training School of Connecticut\",\"school.state\":\"CT\",\"id\":129932,\"school.locale\":21,\"2013.student.size\":302,\"2013.aid.median_debt.completers.overall\":6130.5,\"school.religious_affiliation\":null},{\"2013.repayment.1_yr_repayment.completers\":35,\"2013.earnings.10_yrs_after_entry.working_not_enrolled.mean_earnings\":37400,\"school.name\":\"Asnuntuck Community College\",\"school.state\":\"CT\",\"id\":128577,\"school.locale\":21,\"2013.student.size\":1360,\"2013.aid.median_debt.completers.overall\":4955.0,\"school.religious_affiliation\":null},{\"2013.repayment.1_yr_repayment.completers\":382,\"2013.earnings.10_yrs_after_entry.working_not_enrolled.mean_earnings\":39400,\"school.name\":\"Porter and Chester Institute of Branford\",\"school.state\":\"CT\",\"id\":129002,\"school.locale\":21,\"2013.student.size\":298,\"2013.aid.median_debt.completers.overall\":13245.0,\"school.religious_affiliation\":null},{\"2013.repayment.1_yr_repayment.completers\":4587,\"2013.earnings.10_yrs_after_entry.working_not_enrolled.mean_earnings\":30600,\"school.name\":\"Lincoln Technical Institute-Brockton\",\"school.state\":\"MA\",\"id\":425889,\"school.locale\":21,\"2013.student.size\":378,\"2013.aid.median_debt.completers.overall\":9392.0,\"school.religious_affiliation\":null},{\"school.name\":\"Norwich Technical High School/Adult Licensed Practical Nurse Program\",\"school.state\":\"CT\",\"id\":431707,\"school.locale\":13,\"2013.student.size\":31,\"2013.aid.median_debt.completers.overall\":null,\"2013.repayment.1_yr_repayment.completers\":null,\"2013.earnings.10_yrs_after_entry.working_not_enrolled.mean_earnings\":null,\"school.religious_affiliation\":null},{\"2013.repayment.1_yr_repayment.completers\":179,\"school.name\":\"Jolie Hair and Beauty Academy-Ludlow\",\"school.state\":\"MA\",\"id\":431099,\"school.locale\":21,\"2013.student.size\":102,\"2013.aid.median_debt.completers.overall\":8441.0,\"2013.earnings.10_yrs_after_entry.working_not_enrolled.mean_earnings\":null,\"school.religious_affiliation\":null},{\"2013.repayment.1_yr_repayment.completers\":529,\"2013.earnings.10_yrs_after_entry.working_not_enrolled.mean_earnings\":23100,\"school.name\":\"Stone Academy-Waterbury\",\"school.state\":\"CT\",\"id\":413778,\"school.locale\":22,\"2013.student.size\":212,\"2013.aid.median_debt.completers.overall\":13144.5,\"school.religious_affiliation\":null},{\"2013.repayment.1_yr_repayment.completers\":630,\"2013.earnings.10_yrs_after_entry.working_not_enrolled.mean_earnings\":30100,\"school.name\":\"University of Maine at Augusta\",\"school.state\":\"ME\",\"id\":161217,\"school.locale\":32,\"2013.student.size\":4306,\"2013.aid.median_debt.completers.overall\":19500.0,\"school.religious_affiliation\":null},{\"2013.repayment.1_yr_repayment.completers\":126,\"2013.earnings.10_yrs_after_entry.working_not_enrolled.mean_earnings\":52000,\"school.name\":\"Maine College of Health Professions\",\"school.state\":\"ME\",\"id\":161022,\"school.locale\":13,\"2013.student.size\":178,\"2013.aid.median_debt.completers.overall\":13689.5,\"school.religious_affiliation\":null},{\"2013.repayment.1_yr_repayment.completers\":367,\"2013.earnings.10_yrs_after_entry.working_not_enrolled.mean_earnings\":35400,\"school.name\":\"Central Maine Community College\",\"school.state\":\"ME\",\"id\":161077,\"school.locale\":41,\"2013.student.size\":2531,\"2013.aid.median_debt.completers.overall\":11500.0,\"school.religious_affiliation\":null},{\"2013.repayment.1_yr_repayment.completers\":292,\"2013.earnings.10_yrs_after_entry.working_not_enrolled.mean_earnings\":35000,\"school.name\":\"Eastern Maine Community College\",\"school.state\":\"ME\",\"id\":161138,\"school.locale\":13,\"2013.student.size\":2046,\"2013.aid.median_debt.completers.overall\":9961.5,\"school.religious_affiliation\":null},{\"2013.repayment.1_yr_repayment.completers\":324,\"2013.earnings.10_yrs_after_entry.working_not_enrolled.mean_earnings\":33400,\"school.name\":\"Kennebec Valley Community College\",\"school.state\":\"ME\",\"id\":161192,\"school.locale\":41,\"2013.student.size\":1627,\"2013.aid.median_debt.completers.overall\":10500.0,\"school.religious_affiliation\":null},{\"2013.repayment.1_yr_repayment.completers\":425,\"2013.earnings.10_yrs_after_entry.working_not_enrolled.mean_earnings\":43300,\"school.religious_affiliation\":30,\"school.name\":\"Saint Joseph\\'s College of Maine\",\"school.state\":\"ME\",\"id\":161518,\"school.locale\":41,\"2013.student.size\":1821,\"2013.aid.median_debt.completers.overall\":27000.0},{\"2013.repayment.1_yr_repayment.completers\":59,\"2013.earnings.10_yrs_after_entry.working_not_enrolled.mean_earnings\":24900,\"school.name\":\"Lowell Academy Hairstyling Institute\",\"school.state\":\"MA\",\"id\":166498,\"school.locale\":21,\"2013.student.size\":102,\"2013.aid.median_debt.completers.overall\":8181.0,\"school.religious_affiliation\":null},{\"2013.repayment.1_yr_repayment.completers\":76,\"2013.earnings.10_yrs_after_entry.working_not_enrolled.mean_earnings\":51200,\"school.name\":\"University of Massachusetts-Boston\",\"school.state\":\"MA\",\"id\":166638,\"school.locale\":11,\"2013.student.size\":11786,\"2013.aid.median_debt.completers.overall\":null,\"school.religious_affiliation\":null},{\"school.name\":\"Hebrew College\",\"school.state\":\"MA\",\"id\":166045,\"school.locale\":13,\"2013.student.size\":4,\"2013.aid.median_debt.completers.overall\":null,\"2013.repayment.1_yr_repayment.completers\":null,\"2013.earnings.10_yrs_after_entry.working_not_enrolled.mean_earnings\":null,\"school.religious_affiliation\":null},{\"2013.repayment.1_yr_repayment.completers\":16,\"school.religious_affiliation\":91,\"school.name\":\"Hellenic College-Holy Cross Greek Orthodox School of Theology\",\"school.state\":\"MA\",\"id\":166054,\"school.locale\":21,\"2013.student.size\":92,\"2013.aid.median_debt.completers.overall\":16000.0,\"2013.earnings.10_yrs_after_entry.working_not_enrolled.mean_earnings\":null},{\"2013.repayment.1_yr_repayment.completers\":526,\"2013.earnings.10_yrs_after_entry.working_not_enrolled.mean_earnings\":33600,\"school.name\":\"Holyoke Community College\",\"school.state\":\"MA\",\"id\":166133,\"school.locale\":21,\"2013.student.size\":6370,\"2013.aid.median_debt.completers.overall\":7546.0,\"school.religious_affiliation\":null},{\"2013.repayment.1_yr_repayment.completers\":214,\"2013.earnings.10_yrs_after_entry.working_not_enrolled.mean_earnings\":44100,\"school.name\":\"Massachusetts Bay Community College\",\"school.state\":\"MA\",\"id\":166647,\"school.locale\":21,\"2013.student.size\":4573,\"2013.aid.median_debt.completers.overall\":7075.0,\"school.religious_affiliation\":null},{\"2013.repayment.1_yr_repayment.completers\":272,\"2013.earnings.10_yrs_after_entry.working_not_enrolled.mean_earnings\":41100,\"school.name\":\"Mount Ida College\",\"school.state\":\"MA\",\"id\":166948,\"school.locale\":13,\"2013.student.size\":1261,\"2013.aid.median_debt.completers.overall\":27000.0,\"school.religious_affiliation\":null},{\"2013.repayment.1_yr_repayment.completers\":389,\"2013.earnings.10_yrs_after_entry.working_not_enrolled.mean_earnings\":38600,\"school.name\":\"Lesley University\",\"school.state\":\"MA\",\"id\":166452,\"school.locale\":12,\"2013.student.size\":1785,\"2013.aid.median_debt.completers.overall\":25000.0,\"school.religious_affiliation\":null},{\"school.name\":\"William James College\",\"school.state\":\"MA\",\"id\":166717,\"school.locale\":13,\"2013.student.size\":null,\"2013.aid.median_debt.completers.overall\":null,\"2013.repayment.1_yr_repayment.completers\":null,\"2013.earnings.10_yrs_after_entry.working_not_enrolled.mean_earnings\":null,\"school.religious_affiliation\":null},{\"2013.repayment.1_yr_repayment.completers\":486,\"2013.earnings.10_yrs_after_entry.working_not_enrolled.mean_earnings\":58000,\"school.religious_affiliation\":30,\"school.name\":\"Merrimack College\",\"school.state\":\"MA\",\"id\":166850,\"school.locale\":21,\"2013.student.size\":2722,\"2013.aid.median_debt.completers.overall\":26736.0},{\"2013.repayment.1_yr_repayment.completers\":458,\"2013.earnings.10_yrs_after_entry.working_not_enrolled.mean_earnings\":50000,\"school.name\":\"Mount Holyoke College\",\"school.state\":\"MA\",\"id\":166939,\"school.locale\":21,\"2013.student.size\":2154,\"2013.aid.median_debt.completers.overall\":21250.0,\"school.religious_affiliation\":null},{\"2013.repayment.1_yr_repayment.completers\":137,\"2013.earnings.10_yrs_after_entry.working_not_enrolled.mean_earnings\":34300,\"school.name\":\"School of the Museum of Fine Arts at Tufts University\",\"school.state\":\"MA\",\"id\":166984,\"school.locale\":11,\"2013.student.size\":389,\"2013.aid.median_debt.completers.overall\":21500.0,\"school.religious_affiliation\":null},{\"2013.repayment.1_yr_repayment.completers\":181,\"2013.earnings.10_yrs_after_entry.working_not_enrolled.mean_earnings\":39600,\"school.name\":\"Cortiva Institute-Boston\",\"school.state\":\"MA\",\"id\":166975,\"school.locale\":21,\"2013.student.size\":210,\"2013.aid.median_debt.completers.overall\":7917.0,\"school.religious_affiliation\":null},{\"2013.repayment.1_yr_repayment.completers\":67,\"2013.earnings.10_yrs_after_entry.working_not_enrolled.mean_earnings\":38300,\"school.name\":\"North Bennet Street School\",\"school.state\":\"MA\",\"id\":167297,\"school.locale\":11,\"2013.student.size\":161,\"2013.aid.median_debt.completers.overall\":13808.0,\"school.religious_affiliation\":null},{\"2013.repayment.1_yr_repayment.completers\":357,\"2013.earnings.10_yrs_after_entry.working_not_enrolled.mean_earnings\":35200,\"school.name\":\"Northern Essex Community College\",\"school.state\":\"MA\",\"id\":167376,\"school.locale\":21,\"2013.student.size\":6746,\"2013.aid.median_debt.completers.overall\":7520.0,\"school.religious_affiliation\":null},{\"2013.repayment.1_yr_repayment.completers\":641,\"2013.earnings.10_yrs_after_entry.working_not_enrolled.mean_earnings\":49200,\"school.name\":\"Worcester State University\",\"school.state\":\"MA\",\"id\":168430,\"school.locale\":12,\"2013.student.size\":5033,\"2013.aid.median_debt.completers.overall\":18927.5,\"school.religious_affiliation\":null},{\"2013.repayment.1_yr_repayment.completers\":1263,\"2013.earnings.10_yrs_after_entry.working_not_enrolled.mean_earnings\":46800,\"school.name\":\"Westfield State University\",\"school.state\":\"MA\",\"id\":168263,\"school.locale\":21,\"2013.student.size\":5524,\"2013.aid.median_debt.completers.overall\":22253.5,\"school.religious_affiliation\":null},{\"2013.repayment.1_yr_repayment.completers\":1460,\"2013.earnings.10_yrs_after_entry.working_not_enrolled.mean_earnings\":59100,\"school.name\":\"Suffolk University\",\"school.state\":\"MA\",\"id\":168005,\"school.locale\":11,\"2013.student.size\":5535,\"2013.aid.median_debt.completers.overall\":27000.0,\"school.religious_affiliation\":null},{\"2013.repayment.1_yr_repayment.completers\":35,\"2013.earnings.10_yrs_after_entry.working_not_enrolled.mean_earnings\":17900,\"school.name\":\"Rob Roy Academy-New Bedford\",\"school.state\":\"MA\",\"id\":167039,\"school.locale\":22,\"2013.student.size\":27,\"2013.aid.median_debt.completers.overall\":9500.0,\"school.religious_affiliation\":null},{\"school.name\":\"New England College of Optometry\",\"school.state\":\"MA\",\"id\":167093,\"school.locale\":11,\"2013.earnings.10_yrs_after_entry.working_not_enrolled.mean_earnings\":80600,\"2013.student.size\":null,\"2013.aid.median_debt.completers.overall\":null,\"2013.repayment.1_yr_repayment.completers\":null,\"school.religious_affiliation\":null},{\"2013.repayment.1_yr_repayment.completers\":414,\"2013.earnings.10_yrs_after_entry.working_not_enrolled.mean_earnings\":37100,\"school.name\":\"Massachusetts College of Liberal Arts\",\"school.state\":\"MA\",\"id\":167288,\"school.locale\":31,\"2013.student.size\":1483,\"2013.aid.median_debt.completers.overall\":24301.0,\"school.religious_affiliation\":null},{\"2013.repayment.1_yr_repayment.completers\":230,\"2013.earnings.10_yrs_after_entry.working_not_enrolled.mean_earnings\":36300,\"school.name\":\"Wheelock College\",\"school.state\":\"MA\",\"id\":168290,\"school.locale\":11,\"2013.student.size\":839,\"2013.aid.median_debt.completers.overall\":27000.0,\"school.religious_affiliation\":null},{\"2013.repayment.1_yr_repayment.completers\":99,\"2013.earnings.10_yrs_after_entry.working_not_enrolled.mean_earnings\":33900,\"school.name\":\"Pine Manor College\",\"school.state\":\"MA\",\"id\":167455,\"school.locale\":21,\"2013.student.size\":221,\"2013.aid.median_debt.completers.overall\":31996.0,\"school.religious_affiliation\":null},{\"school.name\":\"Saint John\\'s Seminary\",\"school.state\":\"MA\",\"id\":167677,\"school.locale\":11,\"2013.student.size\":35,\"school.religious_affiliation\":30,\"2013.aid.median_debt.completers.overall\":null,\"2013.repayment.1_yr_repayment.completers\":null,\"2013.earnings.10_yrs_after_entry.working_not_enrolled.mean_earnings\":null},{\"2013.repayment.1_yr_repayment.completers\":51,\"2013.earnings.10_yrs_after_entry.working_not_enrolled.mean_earnings\":39900,\"school.name\":\"Bard College at Simon\\'s Rock\",\"school.state\":\"MA\",\"id\":167792,\"school.locale\":41,\"2013.student.size\":344,\"2013.aid.median_debt.completers.overall\":19500.0,\"school.religious_affiliation\":null},{\"2013.repayment.1_yr_repayment.completers\":92,\"2013.earnings.10_yrs_after_entry.working_not_enrolled.mean_earnings\":63200,\"school.religious_affiliation\":30,\"school.name\":\"Lawrence Memorial Hospital School of Nursing\",\"school.state\":\"MA\",\"id\":166407,\"school.locale\":21,\"2013.student.size\":302,\"2013.aid.median_debt.completers.overall\":20000.0},{\"2013.repayment.1_yr_repayment.completers\":3378,\"2013.earnings.10_yrs_after_entry.working_not_enrolled.mean_earnings\":72000,\"school.name\":\"Boston University\",\"school.state\":\"MA\",\"id\":164988,\"school.locale\":11,\"2013.student.size\":16460,\"2013.aid.median_debt.completers.overall\":27000.0,\"school.religious_affiliation\":null},{\"2013.repayment.1_yr_repayment.completers\":816,\"2013.earnings.10_yrs_after_entry.working_not_enrolled.mean_earnings\":44000,\"school.name\":\"Fitchburg State University\",\"school.state\":\"MA\",\"id\":165820,\"school.locale\":22,\"2013.student.size\":4148,\"2013.aid.median_debt.completers.overall\":21500.0,\"school.religious_affiliation\":null},{\"2013.repayment.1_yr_repayment.completers\":26,\"2013.earnings.10_yrs_after_entry.working_not_enrolled.mean_earnings\":32500,\"school.religious_affiliation\":54,\"school.name\":\"Boston Baptist College\",\"school.state\":\"MA\",\"id\":164614,\"school.locale\":11,\"2013.student.size\":87,\"2013.aid.median_debt.completers.overall\":26826.0},{\"2013.repayment.1_yr_repayment.completers\":1795,\"2013.earnings.10_yrs_after_entry.working_not_enrolled.mean_earnings\":90900,\"school.religious_affiliation\":30,\"school.name\":\"Boston College\",\"school.state\":\"MA\",\"id\":164924,\"school.locale\":13,\"2013.student.size\":9465,\"2013.aid.median_debt.completers.overall\":19000.0},{\"2013.repayment.1_yr_repayment.completers\":479,\"2013.earnings.10_yrs_after_entry.working_not_enrolled.mean_earnings\":46400,\"school.name\":\"American International College\",\"school.state\":\"MA\",\"id\":164447,\"school.locale\":12,\"2013.student.size\":1513,\"2013.aid.median_debt.completers.overall\":27000.0,\"school.religious_affiliation\":null},{\"2013.repayment.1_yr_repayment.completers\":51,\"2013.earnings.10_yrs_after_entry.working_not_enrolled.mean_earnings\":25300,\"school.name\":\"La Baron Hairdressing Academy-Brockton\",\"school.state\":\"MA\",\"id\":166319,\"school.locale\":21,\"2013.student.size\":44,\"2013.aid.median_debt.completers.overall\":9454.0,\"school.religious_affiliation\":null},{\"2013.repayment.1_yr_repayment.completers\":446,\"2013.earnings.10_yrs_after_entry.working_not_enrolled.mean_earnings\":43100,\"school.name\":\"Lasell College\",\"school.state\":\"MA\",\"id\":166391,\"school.locale\":13,\"2013.student.size\":1667,\"2013.aid.median_debt.completers.overall\":26000.0,\"school.religious_affiliation\":null},{\"school.name\":\"Diman Regional Technical Institute\",\"school.state\":\"MA\",\"id\":165608,\"school.locale\":21,\"2013.student.size\":80,\"2013.aid.median_debt.completers.overall\":9500.0,\"2013.repayment.1_yr_repayment.completers\":null,\"2013.earnings.10_yrs_after_entry.working_not_enrolled.mean_earnings\":null,\"school.religious_affiliation\":null},{\"2013.repayment.1_yr_repayment.completers\":1022,\"2013.earnings.10_yrs_after_entry.working_not_enrolled.mean_earnings\":49200,\"school.name\":\"Emerson College\",\"school.state\":\"MA\",\"id\":165662,\"school.locale\":11,\"2013.student.size\":3720,\"2013.aid.median_debt.completers.overall\":23250.5,\"school.religious_affiliation\":null},{\"2013.repayment.1_yr_repayment.completers\":397,\"2013.earnings.10_yrs_after_entry.working_not_enrolled.mean_earnings\":57800,\"school.religious_affiliation\":30,\"school.name\":\"Assumption College\",\"school.state\":\"MA\",\"id\":164562,\"school.locale\":12,\"2013.student.size\":2181,\"2013.aid.median_debt.completers.overall\":27000.0},{\"2013.repayment.1_yr_repayment.completers\":296,\"2013.earnings.10_yrs_after_entry.working_not_enrolled.mean_earnings\":37100,\"school.name\":\"Hampshire College\",\"school.state\":\"MA\",\"id\":166018,\"school.locale\":21,\"2013.student.size\":1468,\"2013.aid.median_debt.completers.overall\":19500.0,\"school.religious_affiliation\":null},{\"2013.repayment.1_yr_repayment.completers\":190,\"2013.earnings.10_yrs_after_entry.working_not_enrolled.mean_earnings\":75000,\"school.name\":\"Bowdoin College\",\"school.state\":\"ME\",\"id\":161004,\"school.locale\":31,\"2013.student.size\":1789,\"2013.aid.median_debt.completers.overall\":19000.0,\"school.religious_affiliation\":null}]}'"
      ]
     },
     "execution_count": 458,
     "metadata": {},
     "output_type": "execute_result"
    }
   ],
   "source": [
    "res0.content"
   ]
  },
  {
   "cell_type": "code",
   "execution_count": 459,
   "metadata": {
    "collapsed": true
   },
   "outputs": [],
   "source": [
    "dic0 = json.loads(res0.content)\n",
    "dic1 = json.loads(res1.content)\n",
    "dic2 = json.loads(res2.content)\n",
    "dic3 = json.loads(res3.content)\n",
    "dic4 = json.loads(res4.content)"
   ]
  },
  {
   "cell_type": "code",
   "execution_count": 460,
   "metadata": {},
   "outputs": [
    {
     "data": {
      "text/plain": [
       "['metadata', 'results']"
      ]
     },
     "execution_count": 460,
     "metadata": {},
     "output_type": "execute_result"
    }
   ],
   "source": [
    "list(dic0.keys())"
   ]
  },
  {
   "cell_type": "code",
   "execution_count": 461,
   "metadata": {
    "collapsed": true
   },
   "outputs": [],
   "source": [
    "d0 = list(dic0.values())[1]\n",
    "d1 = list(dic1.values())[1]\n",
    "d2 = list(dic2.values())[1]\n",
    "d3 = list(dic3.values())[1]\n",
    "d4 = list(dic4.values())[1]\n",
    "\n"
   ]
  },
  {
   "cell_type": "code",
   "execution_count": 462,
   "metadata": {
    "collapsed": true
   },
   "outputs": [],
   "source": [
    "df0 = pd.DataFrame(d0)\n",
    "df1 = pd.DataFrame(d1)\n",
    "df2 = pd.DataFrame(d2)\n",
    "df3 = pd.DataFrame(d3)\n",
    "df4 = pd.DataFrame(d4)"
   ]
  },
  {
   "cell_type": "code",
   "execution_count": 463,
   "metadata": {
    "scrolled": true
   },
   "outputs": [
    {
     "name": "stdout",
     "output_type": "stream",
     "text": [
      "(100, 9)\n",
      "(100, 9)\n",
      "(100, 9)\n",
      "(100, 9)\n",
      "(27, 9)\n"
     ]
    }
   ],
   "source": [
    "print(df0.shape)\n",
    "print(df1.shape)\n",
    "print(df2.shape)\n",
    "print(df3.shape)\n",
    "print(df4.shape)"
   ]
  },
  {
   "cell_type": "code",
   "execution_count": 464,
   "metadata": {},
   "outputs": [
    {
     "data": {
      "text/plain": [
       "Index(['2013.aid.median_debt.completers.overall',\n",
       "       '2013.earnings.10_yrs_after_entry.working_not_enrolled.mean_earnings',\n",
       "       '2013.repayment.1_yr_repayment.completers', '2013.student.size', 'id',\n",
       "       'school.locale', 'school.name', 'school.religious_affiliation',\n",
       "       'school.state'],\n",
       "      dtype='object')"
      ]
     },
     "execution_count": 464,
     "metadata": {},
     "output_type": "execute_result"
    }
   ],
   "source": [
    "df0.columns"
   ]
  },
  {
   "cell_type": "code",
   "execution_count": 465,
   "metadata": {
    "collapsed": true
   },
   "outputs": [],
   "source": [
    "df0.columns = ['13Med.Debt', '13earnings10yrs', '13repay1yr', '13studentsize', 'id', 'locale', 'name', 'religious','state']\n",
    "df1.columns = ['13Med.Debt', '13earnings10yrs', '13repay1yr', '13studentsize', 'id', 'locale', 'name', 'religious','state']\n",
    "df2.columns = ['13Med.Debt', '13earnings10yrs', '13repay1yr', '13studentsize', 'id', 'locale', 'name', 'religious','state']\n",
    "df3.columns = ['13Med.Debt', '13earnings10yrs', '13repay1yr', '13studentsize', 'id', 'locale', 'name', 'religious','state']\n",
    "df4.columns = ['13Med.Debt', '13earnings10yrs', '13repay1yr', '13studentsize', 'id', 'locale', 'name', 'religious','state']"
   ]
  },
  {
   "cell_type": "code",
   "execution_count": 466,
   "metadata": {},
   "outputs": [
    {
     "data": {
      "text/plain": [
       "Index(['13Med.Debt', '13earnings10yrs', '13repay1yr', '13studentsize', 'id',\n",
       "       'locale', 'name', 'religious', 'state'],\n",
       "      dtype='object')"
      ]
     },
     "execution_count": 466,
     "metadata": {},
     "output_type": "execute_result"
    }
   ],
   "source": [
    "df0.columns"
   ]
  },
  {
   "cell_type": "code",
   "execution_count": 467,
   "metadata": {},
   "outputs": [
    {
     "name": "stdout",
     "output_type": "stream",
     "text": [
      "<class 'pandas.core.frame.DataFrame'>\n",
      "RangeIndex: 100 entries, 0 to 99\n",
      "Data columns (total 9 columns):\n",
      "13Med.Debt         80 non-null float64\n",
      "13earnings10yrs    75 non-null float64\n",
      "13repay1yr         81 non-null float64\n",
      "13studentsize      87 non-null float64\n",
      "id                 100 non-null int64\n",
      "locale             93 non-null float64\n",
      "name               100 non-null object\n",
      "religious          11 non-null float64\n",
      "state              100 non-null object\n",
      "dtypes: float64(6), int64(1), object(2)\n",
      "memory usage: 7.1+ KB\n"
     ]
    }
   ],
   "source": [
    "df0.info()"
   ]
  },
  {
   "cell_type": "code",
   "execution_count": 468,
   "metadata": {},
   "outputs": [
    {
     "data": {
      "text/plain": [
       "<matplotlib.axes._subplots.AxesSubplot at 0x1a23b26fd0>"
      ]
     },
     "execution_count": 468,
     "metadata": {},
     "output_type": "execute_result"
    },
    {
     "data": {
      "image/png": "[encoded data removed]",
      "text/plain": [
       "<matplotlib.figure.Figure at 0x1a1e622828>"
      ]
     },
     "metadata": {},
     "output_type": "display_data"
    }
   ],
   "source": [
    "sns.heatmap(df0.corr())"
   ]
  },
  {
   "cell_type": "code",
   "execution_count": 469,
   "metadata": {
    "collapsed": true
   },
   "outputs": [],
   "source": [
    "frames = [df0, df1, df2, df3, df4]"
   ]
  },
  {
   "cell_type": "code",
   "execution_count": 470,
   "metadata": {
    "collapsed": true
   },
   "outputs": [],
   "source": [
    "df = pd.concat(frames,ignore_index=True)"
   ]
  },
  {
   "cell_type": "code",
   "execution_count": 471,
   "metadata": {
    "collapsed": true
   },
   "outputs": [],
   "source": [
    "df.drop(['religious','state'], axis=1, inplace=True)"
   ]
  },
  {
   "cell_type": "code",
   "execution_count": 472,
   "metadata": {},
   "outputs": [
    {
     "data": {
      "text/plain": [
       "(427, 7)"
      ]
     },
     "execution_count": 472,
     "metadata": {},
     "output_type": "execute_result"
    }
   ],
   "source": [
    "df.shape"
   ]
  },
  {
   "cell_type": "code",
   "execution_count": 473,
   "metadata": {},
   "outputs": [
    {
     "data": {
      "text/html": [
       "<div>\n",
       "<style>\n",
       "    .dataframe thead tr:only-child th {\n",
       "        text-align: right;\n",
       "    }\n",
       "\n",
       "    .dataframe thead th {\n",
       "        text-align: left;\n",
       "    }\n",
       "\n",
       "    .dataframe tbody tr th {\n",
       "        vertical-align: top;\n",
       "    }\n",
       "</style>\n",
       "<table border=\"1\" class=\"dataframe\">\n",
       "  <thead>\n",
       "    <tr style=\"text-align: right;\">\n",
       "      <th></th>\n",
       "      <th>13Med.Debt</th>\n",
       "      <th>13earnings10yrs</th>\n",
       "      <th>13repay1yr</th>\n",
       "      <th>13studentsize</th>\n",
       "      <th>id</th>\n",
       "      <th>locale</th>\n",
       "      <th>name</th>\n",
       "    </tr>\n",
       "  </thead>\n",
       "  <tbody>\n",
       "    <tr>\n",
       "      <th>422</th>\n",
       "      <td>9500.0</td>\n",
       "      <td>NaN</td>\n",
       "      <td>NaN</td>\n",
       "      <td>59.0</td>\n",
       "      <td>373711</td>\n",
       "      <td>22.0</td>\n",
       "      <td>Upper Cape Cod Regional Technical School</td>\n",
       "    </tr>\n",
       "    <tr>\n",
       "      <th>423</th>\n",
       "      <td>NaN</td>\n",
       "      <td>NaN</td>\n",
       "      <td>NaN</td>\n",
       "      <td>17.0</td>\n",
       "      <td>369792</td>\n",
       "      <td>31.0</td>\n",
       "      <td>Windham Memorial Hospital-Radiologic Technolog...</td>\n",
       "    </tr>\n",
       "    <tr>\n",
       "      <th>424</th>\n",
       "      <td>27000.0</td>\n",
       "      <td>53000.0</td>\n",
       "      <td>799.0</td>\n",
       "      <td>NaN</td>\n",
       "      <td>409616</td>\n",
       "      <td>21.0</td>\n",
       "      <td>Roger Williams University School of Law</td>\n",
       "    </tr>\n",
       "    <tr>\n",
       "      <th>425</th>\n",
       "      <td>7281.0</td>\n",
       "      <td>23200.0</td>\n",
       "      <td>210.0</td>\n",
       "      <td>176.0</td>\n",
       "      <td>373696</td>\n",
       "      <td>12.0</td>\n",
       "      <td>Rob Roy Academy-Worcester</td>\n",
       "    </tr>\n",
       "    <tr>\n",
       "      <th>426</th>\n",
       "      <td>17436.0</td>\n",
       "      <td>24500.0</td>\n",
       "      <td>983.0</td>\n",
       "      <td>196.0</td>\n",
       "      <td>425986</td>\n",
       "      <td>13.0</td>\n",
       "      <td>Mildred Elley-Pittsfield Campus</td>\n",
       "    </tr>\n",
       "  </tbody>\n",
       "</table>\n",
       "</div>"
      ],
      "text/plain": [
       "     13Med.Debt  13earnings10yrs  13repay1yr  13studentsize      id  locale  \\\n",
       "422      9500.0              NaN         NaN           59.0  373711    22.0   \n",
       "423         NaN              NaN         NaN           17.0  369792    31.0   \n",
       "424     27000.0          53000.0       799.0            NaN  409616    21.0   \n",
       "425      7281.0          23200.0       210.0          176.0  373696    12.0   \n",
       "426     17436.0          24500.0       983.0          196.0  425986    13.0   \n",
       "\n",
       "                                                  name  \n",
       "422           Upper Cape Cod Regional Technical School  \n",
       "423  Windham Memorial Hospital-Radiologic Technolog...  \n",
       "424            Roger Williams University School of Law  \n",
       "425                          Rob Roy Academy-Worcester  \n",
       "426                    Mildred Elley-Pittsfield Campus  "
      ]
     },
     "execution_count": 473,
     "metadata": {},
     "output_type": "execute_result"
    }
   ],
   "source": [
    "df.tail()"
   ]
  },
  {
   "cell_type": "code",
   "execution_count": 474,
   "metadata": {},
   "outputs": [
    {
     "name": "stdout",
     "output_type": "stream",
     "text": [
      "<class 'pandas.core.frame.DataFrame'>\n",
      "RangeIndex: 427 entries, 0 to 426\n",
      "Data columns (total 7 columns):\n",
      "13Med.Debt         351 non-null float64\n",
      "13earnings10yrs    332 non-null float64\n",
      "13repay1yr         362 non-null float64\n",
      "13studentsize      369 non-null float64\n",
      "id                 427 non-null int64\n",
      "locale             403 non-null float64\n",
      "name               427 non-null object\n",
      "dtypes: float64(5), int64(1), object(1)\n",
      "memory usage: 23.4+ KB\n"
     ]
    }
   ],
   "source": [
    "df.info()"
   ]
  },
  {
   "cell_type": "code",
   "execution_count": 475,
   "metadata": {
    "collapsed": true
   },
   "outputs": [],
   "source": [
    "from sklearn.cluster import KMeans, k_means, DBSCAN\n",
    "from sklearn.metrics import silhouette_score\n",
    "from sklearn.model_selection import train_test_split\n",
    "from sklearn.preprocessing import Imputer, StandardScaler"
   ]
  },
  {
   "cell_type": "code",
   "execution_count": 476,
   "metadata": {},
   "outputs": [
    {
     "data": {
      "text/plain": [
       "13Med.Debt         76\n",
       "13earnings10yrs    95\n",
       "13repay1yr         65\n",
       "13studentsize      58\n",
       "id                  0\n",
       "locale             24\n",
       "name                0\n",
       "dtype: int64"
      ]
     },
     "execution_count": 476,
     "metadata": {},
     "output_type": "execute_result"
    }
   ],
   "source": [
    "df.isnull().sum()"
   ]
  },
  {
   "cell_type": "code",
   "execution_count": 477,
   "metadata": {
    "collapsed": true
   },
   "outputs": [],
   "source": [
    "selected_X = [col for col in df.columns if '13' in col]"
   ]
  },
  {
   "cell_type": "code",
   "execution_count": 478,
   "metadata": {
    "collapsed": true
   },
   "outputs": [],
   "source": [
    "X = df[selected_X]"
   ]
  },
  {
   "cell_type": "markdown",
   "metadata": {},
   "source": [
    "Impute Median into null values"
   ]
  },
  {
   "cell_type": "code",
   "execution_count": 479,
   "metadata": {},
   "outputs": [
    {
     "name": "stdout",
     "output_type": "stream",
     "text": [
      "13Med.Debt         17089.299145\n",
      "13earnings10yrs    44499.397590\n",
      "13repay1yr          1393.392265\n",
      "13studentsize       2065.504065\n",
      "dtype: float64\n"
     ]
    }
   ],
   "source": [
    "strategy = 'median'\n",
    "\n",
    "t_imputer = Imputer(strategy=strategy)\n",
    "t_imputer.fit(X)\n",
    "\n",
    "df_Imp = t_imputer.transform(X)\n",
    "\n",
    "print(X.mean())"
   ]
  },
  {
   "cell_type": "markdown",
   "metadata": {},
   "source": [
    "Standardize"
   ]
  },
  {
   "cell_type": "code",
   "execution_count": 480,
   "metadata": {
    "collapsed": true
   },
   "outputs": [],
   "source": [
    "ss = StandardScaler()\n",
    "ss.fit(df_Imp)\n",
    "df_imp_ss = ss.transform(df_Imp)"
   ]
  },
  {
   "cell_type": "code",
   "execution_count": 481,
   "metadata": {
    "scrolled": true
   },
   "outputs": [
    {
     "data": {
      "text/plain": [
       "array([[-1.273918  , -0.33535203, -0.145659  , -0.57812631],\n",
       "       [-0.87264602, -0.98076041, -0.14850612, -0.56772161],\n",
       "       [-0.96210415, -0.98076041, -0.18462895, -0.59927135],\n",
       "       ..., \n",
       "       [ 1.35959902,  0.51274658, -0.07750608, -0.39721876],\n",
       "       [-1.31722171, -1.07677157, -0.18231567, -0.57174923],\n",
       "       [ 0.06130228, -1.00743018, -0.0447642 , -0.56503652]])"
      ]
     },
     "execution_count": 481,
     "metadata": {},
     "output_type": "execute_result"
    }
   ],
   "source": [
    "df_imp_ss"
   ]
  },
  {
   "cell_type": "code",
   "execution_count": 482,
   "metadata": {},
   "outputs": [
    {
     "data": {
      "text/plain": [
       "(427, 4)"
      ]
     },
     "execution_count": 482,
     "metadata": {},
     "output_type": "execute_result"
    }
   ],
   "source": [
    "df_imp_ss = pd.DataFrame(df_imp_ss, columns=X.columns, index=X.index)\n",
    "df_imp_ss.shape"
   ]
  },
  {
   "cell_type": "code",
   "execution_count": 483,
   "metadata": {
    "collapsed": true
   },
   "outputs": [],
   "source": [
    "df_imp_ss.drop([256, 363],inplace=True)"
   ]
  },
  {
   "cell_type": "code",
   "execution_count": 484,
   "metadata": {
    "collapsed": true
   },
   "outputs": [],
   "source": [
    "df.drop([256, 363],inplace=True)"
   ]
  },
  {
   "cell_type": "code",
   "execution_count": 485,
   "metadata": {},
   "outputs": [
    {
     "data": {
      "text/plain": [
       "(425, 4)"
      ]
     },
     "execution_count": 485,
     "metadata": {},
     "output_type": "execute_result"
    }
   ],
   "source": [
    "df_imp_ss.shape"
   ]
  },
  {
   "cell_type": "code",
   "execution_count": 486,
   "metadata": {},
   "outputs": [
    {
     "data": {
      "text/plain": [
       "(425, 7)"
      ]
     },
     "execution_count": 486,
     "metadata": {},
     "output_type": "execute_result"
    }
   ],
   "source": [
    "df.shape"
   ]
  },
  {
   "cell_type": "code",
   "execution_count": 487,
   "metadata": {
    "collapsed": true
   },
   "outputs": [],
   "source": [
    "df.to_csv('df')"
   ]
  },
  {
   "cell_type": "code",
   "execution_count": 488,
   "metadata": {
    "collapsed": true
   },
   "outputs": [],
   "source": [
    "df_imp_ss_name.to_csv('df_imp_ss_name')"
   ]
  },
  {
   "cell_type": "markdown",
   "metadata": {},
   "source": [
    "Lets use KMeans to cluster"
   ]
  },
  {
   "cell_type": "code",
   "execution_count": 489,
   "metadata": {},
   "outputs": [
    {
     "data": {
      "text/plain": [
       "KMeans(algorithm='auto', copy_x=True, init='k-means++', max_iter=300,\n",
       "    n_clusters=6, n_init=10, n_jobs=1, precompute_distances='auto',\n",
       "    random_state=None, tol=0.0001, verbose=0)"
      ]
     },
     "execution_count": 489,
     "metadata": {},
     "output_type": "execute_result"
    }
   ],
   "source": [
    "model = KMeans(n_clusters=6)\n",
    "model.fit(df_imp_ss)"
   ]
  },
  {
   "cell_type": "code",
   "execution_count": 490,
   "metadata": {},
   "outputs": [
    {
     "data": {
      "text/plain": [
       "(425, 4)"
      ]
     },
     "execution_count": 490,
     "metadata": {},
     "output_type": "execute_result"
    }
   ],
   "source": [
    "df_imp_ss.shape"
   ]
  },
  {
   "cell_type": "code",
   "execution_count": 491,
   "metadata": {
    "collapsed": true
   },
   "outputs": [],
   "source": [
    "predicted = model.labels_\n",
    "centroids = model.cluster_centers_"
   ]
  },
  {
   "cell_type": "code",
   "execution_count": 492,
   "metadata": {},
   "outputs": [
    {
     "name": "stdout",
     "output_type": "stream",
     "text": [
      "[5 5 5 5 1 5 1 1 1 1 5 5 0 5 5 5 1 5 1 5 1 1 1 1 1 5 5 5 1 1 1 5 1 1 0 5 5\n",
      " 2 4 0 0 0 4 4 0 3 3 1 1 5 5 1 5 1 5 5 1 1 5 5 5 0 5 2 1 1 4 4 0 0 1 0 0 1\n",
      " 5 1 4 0 0 0 5 3 0 0 0 1 1 0 2 0 0 3 0 5 0 5 0 0 1 3 1 1 5 1 3 0 0 3 2 0 1\n",
      " 1 1 1 5 4 2 0 0 3 0 0 0 1 0 3 1 5 0 5 1 5 5 5 2 1 0 5 0 0 0 0 5 0 2 0 5 0\n",
      " 1 0 0 0 1 1 2 0 0 0 0 4 4 0 3 1 1 5 0 1 5 0 0 5 2 0 5 4 1 2 4 1 4 0 0 3 0\n",
      " 0 5 3 3 0 0 0 0 0 3 3 2 4 4 1 0 5 0 0 1 0 1 0 1 1 3 5 4 0 5 0 3 0 1 1 1 5\n",
      " 5 3 1 5 1 0 0 5 0 1 1 1 1 5 1 1 0 5 5 1 5 0 1 1 1 5 0 5 1 1 1 1 1 5 1 5 1\n",
      " 1 1 0 1 1 5 1 1 1 3 5 1 1 5 1 5 5 1 5 5 5 2 5 1 2 3 4 4 0 0 0 4 4 4 1 3 5\n",
      " 0 0 0 1 0 5 0 5 1 0 0 3 0 0 3 5 1 5 3 5 0 0 0 0 1 0 5 0 1 5 0 1 1 1 0 0 0\n",
      " 5 3 0 5 1 0 1 0 5 3 1 0 1 5 5 5 3 2 2 0 5 1 0 0 5 1 5 5 0 5 5 1 1 1 1 1 5\n",
      " 1 1 1 5 5 5 0 5 5 5 1 1 0 5 0 1 1 5 5 1 5 2 0 4 5 4 4 5 0 3 5 1 0 3 5 1 1\n",
      " 5 0 1 5 1 0 0 1 1 1 1 1 5 5 1 0 5 1]\n",
      "[[ 1.19233871  0.18945476  0.0166992   0.07676972]\n",
      " [-0.10688934 -0.20415331 -0.11505523 -0.41724761]\n",
      " [ 0.76401608  0.46907484  0.2448746   3.70877853]\n",
      " [ 0.30543858  2.7268891  -0.12595006  0.33555463]\n",
      " [-1.29613055 -0.39425743 -0.16731413  1.41827762]\n",
      " [-1.11017408 -0.68055581 -0.09291935 -0.5066512 ]]\n"
     ]
    }
   ],
   "source": [
    "print(predicted)\n",
    "print(model.cluster_centers_)"
   ]
  },
  {
   "cell_type": "code",
   "execution_count": 493,
   "metadata": {
    "collapsed": true
   },
   "outputs": [],
   "source": [
    "df_imp_ss_name = pd.concat([df_imp_ss, df['name']], axis=1)"
   ]
  },
  {
   "cell_type": "code",
   "execution_count": 494,
   "metadata": {},
   "outputs": [
    {
     "data": {
      "text/plain": [
       "(425, 5)"
      ]
     },
     "execution_count": 494,
     "metadata": {},
     "output_type": "execute_result"
    }
   ],
   "source": [
    "df_imp_ss_name.shape"
   ]
  },
  {
   "cell_type": "code",
   "execution_count": 495,
   "metadata": {
    "collapsed": true
   },
   "outputs": [],
   "source": [
    "df_imp_ss_name['Predicted'] = predicted"
   ]
  },
  {
   "cell_type": "code",
   "execution_count": 496,
   "metadata": {},
   "outputs": [
    {
     "data": {
      "text/plain": [
       "(425, 6)"
      ]
     },
     "execution_count": 496,
     "metadata": {},
     "output_type": "execute_result"
    }
   ],
   "source": [
    "df_imp_ss_name.shape"
   ]
  },
  {
   "cell_type": "code",
   "execution_count": 497,
   "metadata": {},
   "outputs": [
    {
     "data": {
      "text/html": [
       "<div>\n",
       "<style>\n",
       "    .dataframe thead tr:only-child th {\n",
       "        text-align: right;\n",
       "    }\n",
       "\n",
       "    .dataframe thead th {\n",
       "        text-align: left;\n",
       "    }\n",
       "\n",
       "    .dataframe tbody tr th {\n",
       "        vertical-align: top;\n",
       "    }\n",
       "</style>\n",
       "<table border=\"1\" class=\"dataframe\">\n",
       "  <thead>\n",
       "    <tr style=\"text-align: right;\">\n",
       "      <th></th>\n",
       "      <th>13Med.Debt</th>\n",
       "      <th>13earnings10yrs</th>\n",
       "      <th>13repay1yr</th>\n",
       "      <th>13studentsize</th>\n",
       "      <th>name</th>\n",
       "      <th>Predicted</th>\n",
       "    </tr>\n",
       "  </thead>\n",
       "  <tbody>\n",
       "    <tr>\n",
       "      <th>0</th>\n",
       "      <td>-1.273918</td>\n",
       "      <td>-0.335352</td>\n",
       "      <td>-0.145659</td>\n",
       "      <td>-0.578126</td>\n",
       "      <td>Connecticut Center for Massage Therapy-Groton</td>\n",
       "      <td>5</td>\n",
       "    </tr>\n",
       "    <tr>\n",
       "      <th>1</th>\n",
       "      <td>-0.872646</td>\n",
       "      <td>-0.980760</td>\n",
       "      <td>-0.148506</td>\n",
       "      <td>-0.567722</td>\n",
       "      <td>Paul Mitchell the School-Rhode Island</td>\n",
       "      <td>5</td>\n",
       "    </tr>\n",
       "    <tr>\n",
       "      <th>2</th>\n",
       "      <td>-0.962104</td>\n",
       "      <td>-0.980760</td>\n",
       "      <td>-0.184629</td>\n",
       "      <td>-0.599271</td>\n",
       "      <td>Empire Beauty School-Framingham</td>\n",
       "      <td>5</td>\n",
       "    </tr>\n",
       "    <tr>\n",
       "      <th>3</th>\n",
       "      <td>-1.189483</td>\n",
       "      <td>-0.820742</td>\n",
       "      <td>0.200266</td>\n",
       "      <td>-0.515027</td>\n",
       "      <td>The Salter School-Malden Campus</td>\n",
       "      <td>5</td>\n",
       "    </tr>\n",
       "    <tr>\n",
       "      <th>4</th>\n",
       "      <td>-0.065758</td>\n",
       "      <td>-0.207337</td>\n",
       "      <td>-0.157403</td>\n",
       "      <td>-0.613032</td>\n",
       "      <td>Advanced Welding Institute</td>\n",
       "      <td>1</td>\n",
       "    </tr>\n",
       "  </tbody>\n",
       "</table>\n",
       "</div>"
      ],
      "text/plain": [
       "   13Med.Debt  13earnings10yrs  13repay1yr  13studentsize  \\\n",
       "0   -1.273918        -0.335352   -0.145659      -0.578126   \n",
       "1   -0.872646        -0.980760   -0.148506      -0.567722   \n",
       "2   -0.962104        -0.980760   -0.184629      -0.599271   \n",
       "3   -1.189483        -0.820742    0.200266      -0.515027   \n",
       "4   -0.065758        -0.207337   -0.157403      -0.613032   \n",
       "\n",
       "                                            name  Predicted  \n",
       "0  Connecticut Center for Massage Therapy-Groton          5  \n",
       "1          Paul Mitchell the School-Rhode Island          5  \n",
       "2                Empire Beauty School-Framingham          5  \n",
       "3                The Salter School-Malden Campus          5  \n",
       "4                     Advanced Welding Institute          1  "
      ]
     },
     "execution_count": 497,
     "metadata": {},
     "output_type": "execute_result"
    }
   ],
   "source": [
    "df_imp_ss_name.head()"
   ]
  },
  {
   "cell_type": "code",
   "execution_count": 498,
   "metadata": {
    "scrolled": true
   },
   "outputs": [
    {
     "data": {
      "text/plain": [
       "1    129\n",
       "0    118\n",
       "5    110\n",
       "3     29\n",
       "4     23\n",
       "2     16\n",
       "Name: Predicted, dtype: int64"
      ]
     },
     "execution_count": 498,
     "metadata": {},
     "output_type": "execute_result"
    }
   ],
   "source": [
    "df_imp_ss_name['Predicted'].value_counts()"
   ]
  },
  {
   "cell_type": "code",
   "execution_count": 499,
   "metadata": {},
   "outputs": [
    {
     "data": {
      "text/html": [
       "<div>\n",
       "<style>\n",
       "    .dataframe thead tr:only-child th {\n",
       "        text-align: right;\n",
       "    }\n",
       "\n",
       "    .dataframe thead th {\n",
       "        text-align: left;\n",
       "    }\n",
       "\n",
       "    .dataframe tbody tr th {\n",
       "        vertical-align: top;\n",
       "    }\n",
       "</style>\n",
       "<table border=\"1\" class=\"dataframe\">\n",
       "  <thead>\n",
       "    <tr style=\"text-align: right;\">\n",
       "      <th></th>\n",
       "      <th>13Med.Debt</th>\n",
       "      <th>13earnings10yrs</th>\n",
       "      <th>13repay1yr</th>\n",
       "      <th>13studentsize</th>\n",
       "      <th>name</th>\n",
       "      <th>Predicted</th>\n",
       "    </tr>\n",
       "  </thead>\n",
       "  <tbody>\n",
       "    <tr>\n",
       "      <th>37</th>\n",
       "      <td>0.714795</td>\n",
       "      <td>0.299388</td>\n",
       "      <td>0.089050</td>\n",
       "      <td>2.561744</td>\n",
       "      <td>Central Connecticut State University</td>\n",
       "      <td>2</td>\n",
       "    </tr>\n",
       "    <tr>\n",
       "      <th>63</th>\n",
       "      <td>-0.065758</td>\n",
       "      <td>0.416735</td>\n",
       "      <td>-0.206160</td>\n",
       "      <td>3.324979</td>\n",
       "      <td>University of Massachusetts-Boston</td>\n",
       "      <td>2</td>\n",
       "    </tr>\n",
       "    <tr>\n",
       "      <th>88</th>\n",
       "      <td>1.359599</td>\n",
       "      <td>1.526198</td>\n",
       "      <td>0.381414</td>\n",
       "      <td>4.893740</td>\n",
       "      <td>Boston University</td>\n",
       "      <td>2</td>\n",
       "    </tr>\n",
       "    <tr>\n",
       "      <th>108</th>\n",
       "      <td>1.359599</td>\n",
       "      <td>0.528748</td>\n",
       "      <td>0.431950</td>\n",
       "      <td>3.493468</td>\n",
       "      <td>University of New Hampshire-Main Campus</td>\n",
       "      <td>2</td>\n",
       "    </tr>\n",
       "    <tr>\n",
       "      <th>116</th>\n",
       "      <td>1.359599</td>\n",
       "      <td>-0.175333</td>\n",
       "      <td>0.630893</td>\n",
       "      <td>2.412386</td>\n",
       "      <td>Johnson &amp; Wales University-Providence</td>\n",
       "      <td>2</td>\n",
       "    </tr>\n",
       "    <tr>\n",
       "      <th>134</th>\n",
       "      <td>0.465425</td>\n",
       "      <td>0.160706</td>\n",
       "      <td>0.000078</td>\n",
       "      <td>5.132712</td>\n",
       "      <td>Southern New Hampshire University</td>\n",
       "      <td>2</td>\n",
       "    </tr>\n",
       "    <tr>\n",
       "      <th>144</th>\n",
       "      <td>0.612983</td>\n",
       "      <td>0.539416</td>\n",
       "      <td>0.215391</td>\n",
       "      <td>2.715465</td>\n",
       "      <td>University of Vermont</td>\n",
       "      <td>2</td>\n",
       "    </tr>\n",
       "    <tr>\n",
       "      <th>154</th>\n",
       "      <td>0.553593</td>\n",
       "      <td>0.992802</td>\n",
       "      <td>0.633918</td>\n",
       "      <td>5.304558</td>\n",
       "      <td>University of Connecticut</td>\n",
       "      <td>2</td>\n",
       "    </tr>\n",
       "    <tr>\n",
       "      <th>172</th>\n",
       "      <td>1.237426</td>\n",
       "      <td>0.176708</td>\n",
       "      <td>0.171973</td>\n",
       "      <td>2.262022</td>\n",
       "      <td>University of Maine</td>\n",
       "      <td>2</td>\n",
       "    </tr>\n",
       "    <tr>\n",
       "      <th>177</th>\n",
       "      <td>1.495347</td>\n",
       "      <td>1.392849</td>\n",
       "      <td>0.322158</td>\n",
       "      <td>3.800910</td>\n",
       "      <td>Northeastern University</td>\n",
       "      <td>2</td>\n",
       "    </tr>\n",
       "    <tr>\n",
       "      <th>196</th>\n",
       "      <td>0.958463</td>\n",
       "      <td>0.123368</td>\n",
       "      <td>0.159517</td>\n",
       "      <td>2.554024</td>\n",
       "      <td>Bridgewater State University</td>\n",
       "      <td>2</td>\n",
       "    </tr>\n",
       "    <tr>\n",
       "      <th>281</th>\n",
       "      <td>0.952354</td>\n",
       "      <td>0.630094</td>\n",
       "      <td>0.735880</td>\n",
       "      <td>6.643072</td>\n",
       "      <td>University of Massachusetts-Amherst</td>\n",
       "      <td>2</td>\n",
       "    </tr>\n",
       "    <tr>\n",
       "      <th>284</th>\n",
       "      <td>0.986291</td>\n",
       "      <td>0.635428</td>\n",
       "      <td>0.122504</td>\n",
       "      <td>3.339076</td>\n",
       "      <td>University of Massachusetts-Lowell</td>\n",
       "      <td>2</td>\n",
       "    </tr>\n",
       "    <tr>\n",
       "      <th>351</th>\n",
       "      <td>-1.372743</td>\n",
       "      <td>-0.554044</td>\n",
       "      <td>-0.114875</td>\n",
       "      <td>5.026651</td>\n",
       "      <td>Community College of Rhode Island</td>\n",
       "      <td>2</td>\n",
       "    </tr>\n",
       "    <tr>\n",
       "      <th>352</th>\n",
       "      <td>0.756877</td>\n",
       "      <td>0.683433</td>\n",
       "      <td>0.287103</td>\n",
       "      <td>3.735126</td>\n",
       "      <td>University of Rhode Island</td>\n",
       "      <td>2</td>\n",
       "    </tr>\n",
       "    <tr>\n",
       "      <th>393</th>\n",
       "      <td>0.850407</td>\n",
       "      <td>0.128702</td>\n",
       "      <td>0.057198</td>\n",
       "      <td>2.140522</td>\n",
       "      <td>Southern Connecticut State University</td>\n",
       "      <td>2</td>\n",
       "    </tr>\n",
       "  </tbody>\n",
       "</table>\n",
       "</div>"
      ],
      "text/plain": [
       "     13Med.Debt  13earnings10yrs  13repay1yr  13studentsize  \\\n",
       "37     0.714795         0.299388    0.089050       2.561744   \n",
       "63    -0.065758         0.416735   -0.206160       3.324979   \n",
       "88     1.359599         1.526198    0.381414       4.893740   \n",
       "108    1.359599         0.528748    0.431950       3.493468   \n",
       "116    1.359599        -0.175333    0.630893       2.412386   \n",
       "134    0.465425         0.160706    0.000078       5.132712   \n",
       "144    0.612983         0.539416    0.215391       2.715465   \n",
       "154    0.553593         0.992802    0.633918       5.304558   \n",
       "172    1.237426         0.176708    0.171973       2.262022   \n",
       "177    1.495347         1.392849    0.322158       3.800910   \n",
       "196    0.958463         0.123368    0.159517       2.554024   \n",
       "281    0.952354         0.630094    0.735880       6.643072   \n",
       "284    0.986291         0.635428    0.122504       3.339076   \n",
       "351   -1.372743        -0.554044   -0.114875       5.026651   \n",
       "352    0.756877         0.683433    0.287103       3.735126   \n",
       "393    0.850407         0.128702    0.057198       2.140522   \n",
       "\n",
       "                                        name  Predicted  \n",
       "37      Central Connecticut State University          2  \n",
       "63        University of Massachusetts-Boston          2  \n",
       "88                         Boston University          2  \n",
       "108  University of New Hampshire-Main Campus          2  \n",
       "116    Johnson & Wales University-Providence          2  \n",
       "134        Southern New Hampshire University          2  \n",
       "144                    University of Vermont          2  \n",
       "154                University of Connecticut          2  \n",
       "172                      University of Maine          2  \n",
       "177                  Northeastern University          2  \n",
       "196             Bridgewater State University          2  \n",
       "281      University of Massachusetts-Amherst          2  \n",
       "284       University of Massachusetts-Lowell          2  \n",
       "351        Community College of Rhode Island          2  \n",
       "352               University of Rhode Island          2  \n",
       "393    Southern Connecticut State University          2  "
      ]
     },
     "execution_count": 499,
     "metadata": {},
     "output_type": "execute_result"
    }
   ],
   "source": [
    "df_imp_ss_name[df_imp_ss_name.Predicted == 2]"
   ]
  },
  {
   "cell_type": "markdown",
   "metadata": {},
   "source": [
    "Lets plot"
   ]
  },
  {
   "cell_type": "code",
   "execution_count": 500,
   "metadata": {},
   "outputs": [
    {
     "data": {
      "text/plain": [
       "Index(['13Med.Debt', '13earnings10yrs', '13repay1yr', '13studentsize', 'name',\n",
       "       'Predicted'],\n",
       "      dtype='object')"
      ]
     },
     "execution_count": 500,
     "metadata": {},
     "output_type": "execute_result"
    }
   ],
   "source": [
    "df_imp_ss_name.columns"
   ]
  },
  {
   "cell_type": "code",
   "execution_count": 501,
   "metadata": {},
   "outputs": [
    {
     "data": {
      "text/plain": [
       "<matplotlib.axes._subplots.AxesSubplot at 0x1a23cef208>"
      ]
     },
     "execution_count": 501,
     "metadata": {},
     "output_type": "execute_result"
    },
    {
     "data": {
      "text/plain": [
       "<matplotlib.figure.Figure at 0x1a23bdcc18>"
      ]
     },
     "metadata": {},
     "output_type": "display_data"
    },
    {
     "data": {
      "image/png": "[encoded data removed]",
      "text/plain": [
       "<matplotlib.figure.Figure at 0x1a23ceb9b0>"
      ]
     },
     "metadata": {},
     "output_type": "display_data"
    }
   ],
   "source": [
    "plt.figure(figsize=(7,7))\n",
    "df_imp_ss_name.plot(x='13Med.Debt', y='13earnings10yrs', c=df_imp_ss_name['Predicted'], kind='scatter', cmap='gist_rainbow', alpha=.7)"
   ]
  },
  {
   "cell_type": "code",
   "execution_count": 502,
   "metadata": {},
   "outputs": [
    {
     "data": {
      "text/plain": [
       "<matplotlib.axes._subplots.AxesSubplot at 0x1a23db8f60>"
      ]
     },
     "execution_count": 502,
     "metadata": {},
     "output_type": "execute_result"
    },
    {
     "data": {
      "text/plain": [
       "<matplotlib.figure.Figure at 0x1a23ccec50>"
      ]
     },
     "metadata": {},
     "output_type": "display_data"
    },
    {
     "data": {
      "image/png": "[encoded data removed]",
      "text/plain": [
       "<matplotlib.figure.Figure at 0x1a2343bdd8>"
      ]
     },
     "metadata": {},
     "output_type": "display_data"
    }
   ],
   "source": [
    "plt.figure(figsize=(7,7))\n",
    "df_imp_ss_name.plot(x='13repay1yr', y='13studentsize', c=df_imp_ss_name['Predicted'], kind='scatter', cmap='gist_rainbow', alpha=.7)"
   ]
  },
  {
   "cell_type": "code",
   "execution_count": 503,
   "metadata": {},
   "outputs": [
    {
     "data": {
      "text/plain": [
       "<matplotlib.axes._subplots.AxesSubplot at 0x1a23f04748>"
      ]
     },
     "execution_count": 503,
     "metadata": {},
     "output_type": "execute_result"
    },
    {
     "data": {
      "text/plain": [
       "<matplotlib.figure.Figure at 0x1a23f36550>"
      ]
     },
     "metadata": {},
     "output_type": "display_data"
    },
    {
     "data": {
      "image/png": "[encoded data removed]",
      "text/plain": [
       "<matplotlib.figure.Figure at 0x1a23f24940>"
      ]
     },
     "metadata": {},
     "output_type": "display_data"
    }
   ],
   "source": [
    "plt.figure(figsize=(7,7))\n",
    "df_imp_ss_name.plot(x='13Med.Debt', y='13repay1yr', c=df_imp_ss_name['Predicted'], kind='scatter', cmap='gist_rainbow', alpha=.7)"
   ]
  },
  {
   "cell_type": "code",
   "execution_count": 504,
   "metadata": {},
   "outputs": [
    {
     "data": {
      "text/plain": [
       "<matplotlib.axes._subplots.AxesSubplot at 0x1a2408f588>"
      ]
     },
     "execution_count": 504,
     "metadata": {},
     "output_type": "execute_result"
    },
    {
     "data": {
      "text/plain": [
       "<matplotlib.figure.Figure at 0x1a240be048>"
      ]
     },
     "metadata": {},
     "output_type": "display_data"
    },
    {
     "data": {
      "image/png": "[encoded data removed]",
      "text/plain": [
       "<matplotlib.figure.Figure at 0x1a240b5be0>"
      ]
     },
     "metadata": {},
     "output_type": "display_data"
    }
   ],
   "source": [
    "plt.figure(figsize=(7,7))\n",
    "df_imp_ss_name.plot(x='13Med.Debt', y='13studentsize', c=df_imp_ss_name['Predicted'], kind='scatter', cmap='gist_rainbow', alpha=.7)"
   ]
  },
  {
   "cell_type": "code",
   "execution_count": 505,
   "metadata": {},
   "outputs": [
    {
     "data": {
      "text/plain": [
       "<matplotlib.axes._subplots.AxesSubplot at 0x1a240be9e8>"
      ]
     },
     "execution_count": 505,
     "metadata": {},
     "output_type": "execute_result"
    },
    {
     "data": {
      "text/plain": [
       "<matplotlib.figure.Figure at 0x1a24236160>"
      ]
     },
     "metadata": {},
     "output_type": "display_data"
    },
    {
     "data": {
      "image/png": "[encoded data removed]",
      "text/plain": [
       "<matplotlib.figure.Figure at 0x1a24229c50>"
      ]
     },
     "metadata": {},
     "output_type": "display_data"
    }
   ],
   "source": [
    "plt.figure(figsize=(7,7))\n",
    "df_imp_ss_name.plot(x='13earnings10yrs', y='13repay1yr', c=df_imp_ss_name['Predicted'], kind='scatter', cmap='gist_rainbow', alpha=.7)"
   ]
  },
  {
   "cell_type": "code",
   "execution_count": 506,
   "metadata": {},
   "outputs": [
    {
     "data": {
      "text/plain": [
       "<matplotlib.axes._subplots.AxesSubplot at 0x1a243c9358>"
      ]
     },
     "execution_count": 506,
     "metadata": {},
     "output_type": "execute_result"
    },
    {
     "data": {
      "text/plain": [
       "<matplotlib.figure.Figure at 0x1a243b1ba8>"
      ]
     },
     "metadata": {},
     "output_type": "display_data"
    },
    {
     "data": {
      "image/png": "[encoded data removed]",
      "text/plain": [
       "<matplotlib.figure.Figure at 0x1a243177b8>"
      ]
     },
     "metadata": {},
     "output_type": "display_data"
    }
   ],
   "source": [
    "plt.figure(figsize=(7,7))\n",
    "df_imp_ss_name.plot(x='13earnings10yrs', y='13studentsize', c=df_imp_ss_name['Predicted'], kind='scatter', cmap='gist_rainbow', alpha=.7)"
   ]
  },
  {
   "cell_type": "code",
   "execution_count": 578,
   "metadata": {},
   "outputs": [
    {
     "data": {
      "text/plain": [
       "<matplotlib.axes._subplots.AxesSubplot at 0x1a1e631390>"
      ]
     },
     "execution_count": 578,
     "metadata": {},
     "output_type": "execute_result"
    },
    {
     "data": {
      "text/plain": [
       "<matplotlib.figure.Figure at 0x1a1e631c50>"
      ]
     },
     "metadata": {},
     "output_type": "display_data"
    },
    {
     "data": {
      "image/png": "[encoded data removed]",
      "text/plain": [
       "<matplotlib.figure.Figure at 0x1a22778c88>"
      ]
     },
     "metadata": {},
     "output_type": "display_data"
    }
   ],
   "source": [
    "plt.figure(figsize=(7,7))\n",
    "df_imp_ss_name.plot(x='13earnings10yrs', y='13studentsize', c=df_imp_ss_name['Predicted'], kind='scatter', cmap='gist_rainbow', alpha=.7)"
   ]
  },
  {
   "cell_type": "code",
   "execution_count": 625,
   "metadata": {
    "collapsed": true
   },
   "outputs": [],
   "source": [
    "from sklearn.metrics import silhouette_score"
   ]
  },
  {
   "cell_type": "code",
   "execution_count": 624,
   "metadata": {},
   "outputs": [
    {
     "name": "stdout",
     "output_type": "stream",
     "text": [
      "Inertia          =  378.311632999\n",
      "Silhouette score =  0.392634551323\n"
     ]
    }
   ],
   "source": [
    "inertia = model.inertia_\n",
    "sil_score = silhouette_score(df_imp_ss, predicted, metric='euclidean')\n",
    "\n",
    "print('Inertia          = ', inertia)\n",
    "print('Silhouette score = ', sil_score)"
   ]
  },
  {
   "cell_type": "markdown",
   "metadata": {},
   "source": [
    "Using kmeans here- I would choose 5 or 6 clusters as the best solution. It is hard to visualize with multiple variables, but overall you can see certain variables that have nice seperation from each other graphically. Particularly, you can see a nice seperation between the below features:\n",
    "\n",
    "    13Med.Debt and 13studentsize\n",
    "    13Med.Debt and 13earnings10yrs\n",
    "    13earnings10yrs and 13studentsize"
   ]
  },
  {
   "cell_type": "markdown",
   "metadata": {},
   "source": [
    "Additionally, in this case of 6 clusters, I would describe the clusters as follows:\n",
    "\n",
    "    0 = This group is almost exclusivley community colleges throughout the region.  An average debt of 7436.36, an avg 10 year earnings of 35995.65, and an average student size of\t6105.\n",
    "    \n",
    "    1 = These seem to be much smaller, technical schools with a median class size of 171 students.  It includes mostly massage therapy schools, beauty schools, and other kinds of technical schools. An average debt of 8806.23, an avg 10 year earnings of 28775.82, and average student size of 340.\n",
    "    \n",
    "    2 =  This is the group that contains most of the imputed values.  To make this model better, I am going to remove the null rows instead of imputing because the values are not accurate.\n",
    "    \n",
    "    3 = These are top schools that have the highest 10 year earnings. Ivy leauge schools fall into this cluster. An average debt of 19839.08, avg 10 year earning of 94639.28, and average student size of 3175.\n",
    "    \n",
    "    4 = This group consists of larger schools, both state and private. An average debt of 22659.82, avg 10 year earning of\t53766.66, and an average student size of 12421.\n",
    "    \n",
    "    5 = This last group contains a lot of smaller, liberal art schools, along with some smaller state schools and technical schools.  The average debt is 25809.33, the avg 10 year earnings is 47178.07, and the average student size is 2125."
   ]
  },
  {
   "cell_type": "code",
   "execution_count": 663,
   "metadata": {
    "collapsed": true
   },
   "outputs": [],
   "source": [
    "df_pre_ss_predicted = df"
   ]
  },
  {
   "cell_type": "code",
   "execution_count": 664,
   "metadata": {
    "collapsed": true
   },
   "outputs": [],
   "source": [
    "df_pre_ss_predicted['Predicted'] = predicted"
   ]
  },
  {
   "cell_type": "code",
   "execution_count": 665,
   "metadata": {},
   "outputs": [
    {
     "data": {
      "text/plain": [
       "1    129\n",
       "0    118\n",
       "5    110\n",
       "3     29\n",
       "4     23\n",
       "2     16\n",
       "Name: Predicted, dtype: int64"
      ]
     },
     "execution_count": 665,
     "metadata": {},
     "output_type": "execute_result"
    }
   ],
   "source": [
    "df_pre_ss_predicted.Predicted.value_counts()"
   ]
  },
  {
   "cell_type": "code",
   "execution_count": 666,
   "metadata": {
    "scrolled": true
   },
   "outputs": [
    {
     "data": {
      "text/html": [
       "<div>\n",
       "<style>\n",
       "    .dataframe thead tr:only-child th {\n",
       "        text-align: right;\n",
       "    }\n",
       "\n",
       "    .dataframe thead th {\n",
       "        text-align: left;\n",
       "    }\n",
       "\n",
       "    .dataframe tbody tr th {\n",
       "        vertical-align: top;\n",
       "    }\n",
       "</style>\n",
       "<table border=\"1\" class=\"dataframe\">\n",
       "  <thead>\n",
       "    <tr style=\"text-align: right;\">\n",
       "      <th></th>\n",
       "      <th>13Med.Debt</th>\n",
       "      <th>13earnings10yrs</th>\n",
       "      <th>13repay1yr</th>\n",
       "      <th>13studentsize</th>\n",
       "      <th>id</th>\n",
       "      <th>locale</th>\n",
       "      <th>name</th>\n",
       "      <th>Predicted</th>\n",
       "    </tr>\n",
       "  </thead>\n",
       "  <tbody>\n",
       "    <tr>\n",
       "      <th>0</th>\n",
       "      <td>7600.0</td>\n",
       "      <td>37100.0</td>\n",
       "      <td>416.0</td>\n",
       "      <td>157.0</td>\n",
       "      <td>443483</td>\n",
       "      <td>22.0</td>\n",
       "      <td>Connecticut Center for Massage Therapy-Groton</td>\n",
       "      <td>5</td>\n",
       "    </tr>\n",
       "    <tr>\n",
       "      <th>1</th>\n",
       "      <td>10556.0</td>\n",
       "      <td>25000.0</td>\n",
       "      <td>400.0</td>\n",
       "      <td>188.0</td>\n",
       "      <td>443641</td>\n",
       "      <td>21.0</td>\n",
       "      <td>Paul Mitchell the School-Rhode Island</td>\n",
       "      <td>5</td>\n",
       "    </tr>\n",
       "    <tr>\n",
       "      <th>2</th>\n",
       "      <td>9897.0</td>\n",
       "      <td>25000.0</td>\n",
       "      <td>197.0</td>\n",
       "      <td>94.0</td>\n",
       "      <td>443678</td>\n",
       "      <td>13.0</td>\n",
       "      <td>Empire Beauty School-Framingham</td>\n",
       "      <td>5</td>\n",
       "    </tr>\n",
       "    <tr>\n",
       "      <th>3</th>\n",
       "      <td>8222.0</td>\n",
       "      <td>28000.0</td>\n",
       "      <td>2360.0</td>\n",
       "      <td>345.0</td>\n",
       "      <td>442815</td>\n",
       "      <td>21.0</td>\n",
       "      <td>The Salter School-Malden Campus</td>\n",
       "      <td>5</td>\n",
       "    </tr>\n",
       "    <tr>\n",
       "      <th>5</th>\n",
       "      <td>7281.0</td>\n",
       "      <td>23200.0</td>\n",
       "      <td>210.0</td>\n",
       "      <td>NaN</td>\n",
       "      <td>37369601</td>\n",
       "      <td>NaN</td>\n",
       "      <td>Rob Roy Academy - Woonsocket</td>\n",
       "      <td>5</td>\n",
       "    </tr>\n",
       "    <tr>\n",
       "      <th>10</th>\n",
       "      <td>8222.0</td>\n",
       "      <td>28000.0</td>\n",
       "      <td>2360.0</td>\n",
       "      <td>317.0</td>\n",
       "      <td>460589</td>\n",
       "      <td>22.0</td>\n",
       "      <td>Salter School-New Bedford</td>\n",
       "      <td>5</td>\n",
       "    </tr>\n",
       "    <tr>\n",
       "      <th>11</th>\n",
       "      <td>9586.5</td>\n",
       "      <td>23000.0</td>\n",
       "      <td>441.0</td>\n",
       "      <td>NaN</td>\n",
       "      <td>13012903</td>\n",
       "      <td>NaN</td>\n",
       "      <td>Marinello School of Beauty-Willimantic</td>\n",
       "      <td>5</td>\n",
       "    </tr>\n",
       "    <tr>\n",
       "      <th>13</th>\n",
       "      <td>9302.0</td>\n",
       "      <td>NaN</td>\n",
       "      <td>242.0</td>\n",
       "      <td>NaN</td>\n",
       "      <td>44599302</td>\n",
       "      <td>NaN</td>\n",
       "      <td>Marinello School of Beauty-Enfield</td>\n",
       "      <td>5</td>\n",
       "    </tr>\n",
       "    <tr>\n",
       "      <th>14</th>\n",
       "      <td>9307.5</td>\n",
       "      <td>NaN</td>\n",
       "      <td>49.0</td>\n",
       "      <td>50.0</td>\n",
       "      <td>461290</td>\n",
       "      <td>12.0</td>\n",
       "      <td>Laird Institute of Spa Therapy</td>\n",
       "      <td>5</td>\n",
       "    </tr>\n",
       "    <tr>\n",
       "      <th>15</th>\n",
       "      <td>8444.0</td>\n",
       "      <td>NaN</td>\n",
       "      <td>91.0</td>\n",
       "      <td>176.0</td>\n",
       "      <td>461704</td>\n",
       "      <td>32.0</td>\n",
       "      <td>Capilo School of Hair Design</td>\n",
       "      <td>5</td>\n",
       "    </tr>\n",
       "    <tr>\n",
       "      <th>17</th>\n",
       "      <td>7034.0</td>\n",
       "      <td>NaN</td>\n",
       "      <td>80.0</td>\n",
       "      <td>177.0</td>\n",
       "      <td>451264</td>\n",
       "      <td>21.0</td>\n",
       "      <td>Millennium Training Institute</td>\n",
       "      <td>5</td>\n",
       "    </tr>\n",
       "    <tr>\n",
       "      <th>19</th>\n",
       "      <td>13144.5</td>\n",
       "      <td>23100.0</td>\n",
       "      <td>529.0</td>\n",
       "      <td>312.0</td>\n",
       "      <td>448619</td>\n",
       "      <td>13.0</td>\n",
       "      <td>Stone Academy-East Hartford</td>\n",
       "      <td>5</td>\n",
       "    </tr>\n",
       "    <tr>\n",
       "      <th>25</th>\n",
       "      <td>8484.0</td>\n",
       "      <td>25900.0</td>\n",
       "      <td>1036.0</td>\n",
       "      <td>321.0</td>\n",
       "      <td>447519</td>\n",
       "      <td>12.0</td>\n",
       "      <td>Seacoast Career School-Manchester Campus</td>\n",
       "      <td>5</td>\n",
       "    </tr>\n",
       "    <tr>\n",
       "      <th>26</th>\n",
       "      <td>6333.0</td>\n",
       "      <td>26700.0</td>\n",
       "      <td>403.0</td>\n",
       "      <td>43.0</td>\n",
       "      <td>445638</td>\n",
       "      <td>21.0</td>\n",
       "      <td>Spa Tech Institute-Ipswich</td>\n",
       "      <td>5</td>\n",
       "    </tr>\n",
       "    <tr>\n",
       "      <th>27</th>\n",
       "      <td>6333.0</td>\n",
       "      <td>26700.0</td>\n",
       "      <td>403.0</td>\n",
       "      <td>93.0</td>\n",
       "      <td>445647</td>\n",
       "      <td>21.0</td>\n",
       "      <td>Spa Tech Institute-Westboro</td>\n",
       "      <td>5</td>\n",
       "    </tr>\n",
       "    <tr>\n",
       "      <th>31</th>\n",
       "      <td>9392.0</td>\n",
       "      <td>30600.0</td>\n",
       "      <td>4587.0</td>\n",
       "      <td>388.0</td>\n",
       "      <td>440952</td>\n",
       "      <td>21.0</td>\n",
       "      <td>Lincoln Technical Institute-Lowell</td>\n",
       "      <td>5</td>\n",
       "    </tr>\n",
       "    <tr>\n",
       "      <th>35</th>\n",
       "      <td>8484.0</td>\n",
       "      <td>25900.0</td>\n",
       "      <td>1036.0</td>\n",
       "      <td>254.0</td>\n",
       "      <td>433970</td>\n",
       "      <td>32.0</td>\n",
       "      <td>Seacoast Career Schools-Sanford Campus</td>\n",
       "      <td>5</td>\n",
       "    </tr>\n",
       "    <tr>\n",
       "      <th>36</th>\n",
       "      <td>9392.0</td>\n",
       "      <td>30600.0</td>\n",
       "      <td>4587.0</td>\n",
       "      <td>331.0</td>\n",
       "      <td>165556</td>\n",
       "      <td>21.0</td>\n",
       "      <td>Lincoln Technical Institute-Somerville</td>\n",
       "      <td>5</td>\n",
       "    </tr>\n",
       "    <tr>\n",
       "      <th>49</th>\n",
       "      <td>6130.5</td>\n",
       "      <td>39900.0</td>\n",
       "      <td>1693.0</td>\n",
       "      <td>302.0</td>\n",
       "      <td>129932</td>\n",
       "      <td>21.0</td>\n",
       "      <td>New England Tractor Trailer Training School of...</td>\n",
       "      <td>5</td>\n",
       "    </tr>\n",
       "    <tr>\n",
       "      <th>50</th>\n",
       "      <td>4955.0</td>\n",
       "      <td>37400.0</td>\n",
       "      <td>35.0</td>\n",
       "      <td>1360.0</td>\n",
       "      <td>128577</td>\n",
       "      <td>21.0</td>\n",
       "      <td>Asnuntuck Community College</td>\n",
       "      <td>5</td>\n",
       "    </tr>\n",
       "    <tr>\n",
       "      <th>52</th>\n",
       "      <td>9392.0</td>\n",
       "      <td>30600.0</td>\n",
       "      <td>4587.0</td>\n",
       "      <td>378.0</td>\n",
       "      <td>425889</td>\n",
       "      <td>21.0</td>\n",
       "      <td>Lincoln Technical Institute-Brockton</td>\n",
       "      <td>5</td>\n",
       "    </tr>\n",
       "    <tr>\n",
       "      <th>54</th>\n",
       "      <td>8441.0</td>\n",
       "      <td>NaN</td>\n",
       "      <td>179.0</td>\n",
       "      <td>102.0</td>\n",
       "      <td>431099</td>\n",
       "      <td>21.0</td>\n",
       "      <td>Jolie Hair and Beauty Academy-Ludlow</td>\n",
       "      <td>5</td>\n",
       "    </tr>\n",
       "    <tr>\n",
       "      <th>55</th>\n",
       "      <td>13144.5</td>\n",
       "      <td>23100.0</td>\n",
       "      <td>529.0</td>\n",
       "      <td>212.0</td>\n",
       "      <td>413778</td>\n",
       "      <td>22.0</td>\n",
       "      <td>Stone Academy-Waterbury</td>\n",
       "      <td>5</td>\n",
       "    </tr>\n",
       "    <tr>\n",
       "      <th>58</th>\n",
       "      <td>11500.0</td>\n",
       "      <td>35400.0</td>\n",
       "      <td>367.0</td>\n",
       "      <td>2531.0</td>\n",
       "      <td>161077</td>\n",
       "      <td>41.0</td>\n",
       "      <td>Central Maine Community College</td>\n",
       "      <td>5</td>\n",
       "    </tr>\n",
       "    <tr>\n",
       "      <th>59</th>\n",
       "      <td>9961.5</td>\n",
       "      <td>35000.0</td>\n",
       "      <td>292.0</td>\n",
       "      <td>2046.0</td>\n",
       "      <td>161138</td>\n",
       "      <td>13.0</td>\n",
       "      <td>Eastern Maine Community College</td>\n",
       "      <td>5</td>\n",
       "    </tr>\n",
       "    <tr>\n",
       "      <th>60</th>\n",
       "      <td>10500.0</td>\n",
       "      <td>33400.0</td>\n",
       "      <td>324.0</td>\n",
       "      <td>1627.0</td>\n",
       "      <td>161192</td>\n",
       "      <td>41.0</td>\n",
       "      <td>Kennebec Valley Community College</td>\n",
       "      <td>5</td>\n",
       "    </tr>\n",
       "    <tr>\n",
       "      <th>62</th>\n",
       "      <td>8181.0</td>\n",
       "      <td>24900.0</td>\n",
       "      <td>59.0</td>\n",
       "      <td>102.0</td>\n",
       "      <td>166498</td>\n",
       "      <td>21.0</td>\n",
       "      <td>Lowell Academy Hairstyling Institute</td>\n",
       "      <td>5</td>\n",
       "    </tr>\n",
       "    <tr>\n",
       "      <th>74</th>\n",
       "      <td>7917.0</td>\n",
       "      <td>39600.0</td>\n",
       "      <td>181.0</td>\n",
       "      <td>210.0</td>\n",
       "      <td>166975</td>\n",
       "      <td>21.0</td>\n",
       "      <td>Cortiva Institute-Boston</td>\n",
       "      <td>5</td>\n",
       "    </tr>\n",
       "    <tr>\n",
       "      <th>80</th>\n",
       "      <td>9500.0</td>\n",
       "      <td>17900.0</td>\n",
       "      <td>35.0</td>\n",
       "      <td>27.0</td>\n",
       "      <td>167039</td>\n",
       "      <td>22.0</td>\n",
       "      <td>Rob Roy Academy-New Bedford</td>\n",
       "      <td>5</td>\n",
       "    </tr>\n",
       "    <tr>\n",
       "      <th>93</th>\n",
       "      <td>9454.0</td>\n",
       "      <td>25300.0</td>\n",
       "      <td>51.0</td>\n",
       "      <td>44.0</td>\n",
       "      <td>166319</td>\n",
       "      <td>21.0</td>\n",
       "      <td>La Baron Hairdressing Academy-Brockton</td>\n",
       "      <td>5</td>\n",
       "    </tr>\n",
       "    <tr>\n",
       "      <th>...</th>\n",
       "      <td>...</td>\n",
       "      <td>...</td>\n",
       "      <td>...</td>\n",
       "      <td>...</td>\n",
       "      <td>...</td>\n",
       "      <td>...</td>\n",
       "      <td>...</td>\n",
       "      <td>...</td>\n",
       "    </tr>\n",
       "    <tr>\n",
       "      <th>342</th>\n",
       "      <td>9500.0</td>\n",
       "      <td>NaN</td>\n",
       "      <td>37.0</td>\n",
       "      <td>46.0</td>\n",
       "      <td>164535</td>\n",
       "      <td>21.0</td>\n",
       "      <td>Assabet Valley Regional Technical School</td>\n",
       "      <td>5</td>\n",
       "    </tr>\n",
       "    <tr>\n",
       "      <th>347</th>\n",
       "      <td>5500.0</td>\n",
       "      <td>29400.0</td>\n",
       "      <td>62.0</td>\n",
       "      <td>330.0</td>\n",
       "      <td>161581</td>\n",
       "      <td>33.0</td>\n",
       "      <td>Washington County Community College</td>\n",
       "      <td>5</td>\n",
       "    </tr>\n",
       "    <tr>\n",
       "      <th>348</th>\n",
       "      <td>9000.0</td>\n",
       "      <td>19300.0</td>\n",
       "      <td>335.0</td>\n",
       "      <td>314.0</td>\n",
       "      <td>161493</td>\n",
       "      <td>13.0</td>\n",
       "      <td>Empire Beauty School-Maine</td>\n",
       "      <td>5</td>\n",
       "    </tr>\n",
       "    <tr>\n",
       "      <th>349</th>\n",
       "      <td>6333.0</td>\n",
       "      <td>26700.0</td>\n",
       "      <td>403.0</td>\n",
       "      <td>245.0</td>\n",
       "      <td>161527</td>\n",
       "      <td>22.0</td>\n",
       "      <td>Spa Tech Institute-Westbrook</td>\n",
       "      <td>5</td>\n",
       "    </tr>\n",
       "    <tr>\n",
       "      <th>354</th>\n",
       "      <td>6333.0</td>\n",
       "      <td>39100.0</td>\n",
       "      <td>633.0</td>\n",
       "      <td>157.0</td>\n",
       "      <td>217323</td>\n",
       "      <td>21.0</td>\n",
       "      <td>New England Tractor Trailer Training School of...</td>\n",
       "      <td>5</td>\n",
       "    </tr>\n",
       "    <tr>\n",
       "      <th>358</th>\n",
       "      <td>11009.0</td>\n",
       "      <td>22200.0</td>\n",
       "      <td>393.0</td>\n",
       "      <td>88.0</td>\n",
       "      <td>217581</td>\n",
       "      <td>13.0</td>\n",
       "      <td>Empire Beauty School-Warwick</td>\n",
       "      <td>5</td>\n",
       "    </tr>\n",
       "    <tr>\n",
       "      <th>360</th>\n",
       "      <td>9000.0</td>\n",
       "      <td>19300.0</td>\n",
       "      <td>335.0</td>\n",
       "      <td>NaN</td>\n",
       "      <td>16149302</td>\n",
       "      <td>NaN</td>\n",
       "      <td>Empire Beauty School-Caribou</td>\n",
       "      <td>5</td>\n",
       "    </tr>\n",
       "    <tr>\n",
       "      <th>361</th>\n",
       "      <td>9000.0</td>\n",
       "      <td>19300.0</td>\n",
       "      <td>335.0</td>\n",
       "      <td>NaN</td>\n",
       "      <td>16149303</td>\n",
       "      <td>NaN</td>\n",
       "      <td>Empire Beauty School-Bangor</td>\n",
       "      <td>5</td>\n",
       "    </tr>\n",
       "    <tr>\n",
       "      <th>364</th>\n",
       "      <td>7600.0</td>\n",
       "      <td>NaN</td>\n",
       "      <td>197.0</td>\n",
       "      <td>462.0</td>\n",
       "      <td>461962</td>\n",
       "      <td>22.0</td>\n",
       "      <td>Northeast Technical Institute</td>\n",
       "      <td>5</td>\n",
       "    </tr>\n",
       "    <tr>\n",
       "      <th>365</th>\n",
       "      <td>8222.0</td>\n",
       "      <td>28000.0</td>\n",
       "      <td>2360.0</td>\n",
       "      <td>70.0</td>\n",
       "      <td>466523</td>\n",
       "      <td>21.0</td>\n",
       "      <td>Salter College-Chicopee</td>\n",
       "      <td>5</td>\n",
       "    </tr>\n",
       "    <tr>\n",
       "      <th>371</th>\n",
       "      <td>6130.5</td>\n",
       "      <td>39900.0</td>\n",
       "      <td>1693.0</td>\n",
       "      <td>259.0</td>\n",
       "      <td>480903</td>\n",
       "      <td>12.0</td>\n",
       "      <td>New England Tractor Trailer Training School of...</td>\n",
       "      <td>5</td>\n",
       "    </tr>\n",
       "    <tr>\n",
       "      <th>375</th>\n",
       "      <td>8930.0</td>\n",
       "      <td>NaN</td>\n",
       "      <td>15.0</td>\n",
       "      <td>29.0</td>\n",
       "      <td>476735</td>\n",
       "      <td>22.0</td>\n",
       "      <td>Alexander Academy</td>\n",
       "      <td>5</td>\n",
       "    </tr>\n",
       "    <tr>\n",
       "      <th>376</th>\n",
       "      <td>8550.0</td>\n",
       "      <td>30900.0</td>\n",
       "      <td>331.0</td>\n",
       "      <td>10.0</td>\n",
       "      <td>479062</td>\n",
       "      <td>21.0</td>\n",
       "      <td>MotoRing Technical Training Institute</td>\n",
       "      <td>5</td>\n",
       "    </tr>\n",
       "    <tr>\n",
       "      <th>377</th>\n",
       "      <td>9586.5</td>\n",
       "      <td>23000.0</td>\n",
       "      <td>441.0</td>\n",
       "      <td>NaN</td>\n",
       "      <td>13012902</td>\n",
       "      <td>NaN</td>\n",
       "      <td>Marinello School of Beauty-Fairfield</td>\n",
       "      <td>5</td>\n",
       "    </tr>\n",
       "    <tr>\n",
       "      <th>379</th>\n",
       "      <td>9302.0</td>\n",
       "      <td>NaN</td>\n",
       "      <td>242.0</td>\n",
       "      <td>NaN</td>\n",
       "      <td>44599303</td>\n",
       "      <td>NaN</td>\n",
       "      <td>Marinello School of Beauty-Northampton</td>\n",
       "      <td>5</td>\n",
       "    </tr>\n",
       "    <tr>\n",
       "      <th>380</th>\n",
       "      <td>11316.5</td>\n",
       "      <td>20500.0</td>\n",
       "      <td>170.0</td>\n",
       "      <td>119.0</td>\n",
       "      <td>450641</td>\n",
       "      <td>22.0</td>\n",
       "      <td>Empire Beauty School-Hooksett</td>\n",
       "      <td>5</td>\n",
       "    </tr>\n",
       "    <tr>\n",
       "      <th>381</th>\n",
       "      <td>9833.0</td>\n",
       "      <td>21700.0</td>\n",
       "      <td>168.0</td>\n",
       "      <td>104.0</td>\n",
       "      <td>450757</td>\n",
       "      <td>23.0</td>\n",
       "      <td>Empire Beauty School-Portsmouth</td>\n",
       "      <td>5</td>\n",
       "    </tr>\n",
       "    <tr>\n",
       "      <th>385</th>\n",
       "      <td>9647.0</td>\n",
       "      <td>28900.0</td>\n",
       "      <td>3859.0</td>\n",
       "      <td>696.0</td>\n",
       "      <td>438805</td>\n",
       "      <td>12.0</td>\n",
       "      <td>Branford Hall Career Institute-Springfield Campus</td>\n",
       "      <td>5</td>\n",
       "    </tr>\n",
       "    <tr>\n",
       "      <th>389</th>\n",
       "      <td>5500.0</td>\n",
       "      <td>51600.0</td>\n",
       "      <td>NaN</td>\n",
       "      <td>80.0</td>\n",
       "      <td>382416</td>\n",
       "      <td>21.0</td>\n",
       "      <td>Greater Lowell Technical School</td>\n",
       "      <td>5</td>\n",
       "    </tr>\n",
       "    <tr>\n",
       "      <th>390</th>\n",
       "      <td>10167.0</td>\n",
       "      <td>NaN</td>\n",
       "      <td>112.0</td>\n",
       "      <td>58.0</td>\n",
       "      <td>434344</td>\n",
       "      <td>12.0</td>\n",
       "      <td>Toni &amp; Guy Hairdressing Academy-Worcester</td>\n",
       "      <td>5</td>\n",
       "    </tr>\n",
       "    <tr>\n",
       "      <th>392</th>\n",
       "      <td>9647.0</td>\n",
       "      <td>28900.0</td>\n",
       "      <td>3859.0</td>\n",
       "      <td>541.0</td>\n",
       "      <td>434520</td>\n",
       "      <td>21.0</td>\n",
       "      <td>Branford Hall Career Institute-Southington Campus</td>\n",
       "      <td>5</td>\n",
       "    </tr>\n",
       "    <tr>\n",
       "      <th>396</th>\n",
       "      <td>13144.5</td>\n",
       "      <td>23100.0</td>\n",
       "      <td>529.0</td>\n",
       "      <td>422.0</td>\n",
       "      <td>130509</td>\n",
       "      <td>21.0</td>\n",
       "      <td>Stone Academy-West Haven</td>\n",
       "      <td>5</td>\n",
       "    </tr>\n",
       "    <tr>\n",
       "      <th>399</th>\n",
       "      <td>9647.0</td>\n",
       "      <td>28900.0</td>\n",
       "      <td>3859.0</td>\n",
       "      <td>524.0</td>\n",
       "      <td>128674</td>\n",
       "      <td>21.0</td>\n",
       "      <td>Branford Hall Career Institute-Branford Campus</td>\n",
       "      <td>5</td>\n",
       "    </tr>\n",
       "    <tr>\n",
       "      <th>402</th>\n",
       "      <td>12337.0</td>\n",
       "      <td>26500.0</td>\n",
       "      <td>830.0</td>\n",
       "      <td>327.0</td>\n",
       "      <td>129482</td>\n",
       "      <td>13.0</td>\n",
       "      <td>American Institute-West Hartford</td>\n",
       "      <td>5</td>\n",
       "    </tr>\n",
       "    <tr>\n",
       "      <th>406</th>\n",
       "      <td>7600.0</td>\n",
       "      <td>37100.0</td>\n",
       "      <td>416.0</td>\n",
       "      <td>304.0</td>\n",
       "      <td>128896</td>\n",
       "      <td>21.0</td>\n",
       "      <td>Connecticut Center for Massage Therapy-Newington</td>\n",
       "      <td>5</td>\n",
       "    </tr>\n",
       "    <tr>\n",
       "      <th>409</th>\n",
       "      <td>10588.0</td>\n",
       "      <td>26900.0</td>\n",
       "      <td>166.0</td>\n",
       "      <td>156.0</td>\n",
       "      <td>129349</td>\n",
       "      <td>21.0</td>\n",
       "      <td>Paul Mitchell the School-North Haven</td>\n",
       "      <td>5</td>\n",
       "    </tr>\n",
       "    <tr>\n",
       "      <th>412</th>\n",
       "      <td>6333.0</td>\n",
       "      <td>32600.0</td>\n",
       "      <td>61.0</td>\n",
       "      <td>171.0</td>\n",
       "      <td>362782</td>\n",
       "      <td>21.0</td>\n",
       "      <td>Elizabeth Grady School of Esthetics and Massag...</td>\n",
       "      <td>5</td>\n",
       "    </tr>\n",
       "    <tr>\n",
       "      <th>421</th>\n",
       "      <td>9647.0</td>\n",
       "      <td>28900.0</td>\n",
       "      <td>3859.0</td>\n",
       "      <td>449.0</td>\n",
       "      <td>430096</td>\n",
       "      <td>21.0</td>\n",
       "      <td>Branford Hall Career Institute-Windsor Campus</td>\n",
       "      <td>5</td>\n",
       "    </tr>\n",
       "    <tr>\n",
       "      <th>422</th>\n",
       "      <td>9500.0</td>\n",
       "      <td>NaN</td>\n",
       "      <td>NaN</td>\n",
       "      <td>59.0</td>\n",
       "      <td>373711</td>\n",
       "      <td>22.0</td>\n",
       "      <td>Upper Cape Cod Regional Technical School</td>\n",
       "      <td>5</td>\n",
       "    </tr>\n",
       "    <tr>\n",
       "      <th>425</th>\n",
       "      <td>7281.0</td>\n",
       "      <td>23200.0</td>\n",
       "      <td>210.0</td>\n",
       "      <td>176.0</td>\n",
       "      <td>373696</td>\n",
       "      <td>12.0</td>\n",
       "      <td>Rob Roy Academy-Worcester</td>\n",
       "      <td>5</td>\n",
       "    </tr>\n",
       "  </tbody>\n",
       "</table>\n",
       "<p>110 rows × 8 columns</p>\n",
       "</div>"
      ],
      "text/plain": [
       "     13Med.Debt  13earnings10yrs  13repay1yr  13studentsize        id  locale  \\\n",
       "0        7600.0          37100.0       416.0          157.0    443483    22.0   \n",
       "1       10556.0          25000.0       400.0          188.0    443641    21.0   \n",
       "2        9897.0          25000.0       197.0           94.0    443678    13.0   \n",
       "3        8222.0          28000.0      2360.0          345.0    442815    21.0   \n",
       "5        7281.0          23200.0       210.0            NaN  37369601     NaN   \n",
       "10       8222.0          28000.0      2360.0          317.0    460589    22.0   \n",
       "11       9586.5          23000.0       441.0            NaN  13012903     NaN   \n",
       "13       9302.0              NaN       242.0            NaN  44599302     NaN   \n",
       "14       9307.5              NaN        49.0           50.0    461290    12.0   \n",
       "15       8444.0              NaN        91.0          176.0    461704    32.0   \n",
       "17       7034.0              NaN        80.0          177.0    451264    21.0   \n",
       "19      13144.5          23100.0       529.0          312.0    448619    13.0   \n",
       "25       8484.0          25900.0      1036.0          321.0    447519    12.0   \n",
       "26       6333.0          26700.0       403.0           43.0    445638    21.0   \n",
       "27       6333.0          26700.0       403.0           93.0    445647    21.0   \n",
       "31       9392.0          30600.0      4587.0          388.0    440952    21.0   \n",
       "35       8484.0          25900.0      1036.0          254.0    433970    32.0   \n",
       "36       9392.0          30600.0      4587.0          331.0    165556    21.0   \n",
       "49       6130.5          39900.0      1693.0          302.0    129932    21.0   \n",
       "50       4955.0          37400.0        35.0         1360.0    128577    21.0   \n",
       "52       9392.0          30600.0      4587.0          378.0    425889    21.0   \n",
       "54       8441.0              NaN       179.0          102.0    431099    21.0   \n",
       "55      13144.5          23100.0       529.0          212.0    413778    22.0   \n",
       "58      11500.0          35400.0       367.0         2531.0    161077    41.0   \n",
       "59       9961.5          35000.0       292.0         2046.0    161138    13.0   \n",
       "60      10500.0          33400.0       324.0         1627.0    161192    41.0   \n",
       "62       8181.0          24900.0        59.0          102.0    166498    21.0   \n",
       "74       7917.0          39600.0       181.0          210.0    166975    21.0   \n",
       "80       9500.0          17900.0        35.0           27.0    167039    22.0   \n",
       "93       9454.0          25300.0        51.0           44.0    166319    21.0   \n",
       "..          ...              ...         ...            ...       ...     ...   \n",
       "342      9500.0              NaN        37.0           46.0    164535    21.0   \n",
       "347      5500.0          29400.0        62.0          330.0    161581    33.0   \n",
       "348      9000.0          19300.0       335.0          314.0    161493    13.0   \n",
       "349      6333.0          26700.0       403.0          245.0    161527    22.0   \n",
       "354      6333.0          39100.0       633.0          157.0    217323    21.0   \n",
       "358     11009.0          22200.0       393.0           88.0    217581    13.0   \n",
       "360      9000.0          19300.0       335.0            NaN  16149302     NaN   \n",
       "361      9000.0          19300.0       335.0            NaN  16149303     NaN   \n",
       "364      7600.0              NaN       197.0          462.0    461962    22.0   \n",
       "365      8222.0          28000.0      2360.0           70.0    466523    21.0   \n",
       "371      6130.5          39900.0      1693.0          259.0    480903    12.0   \n",
       "375      8930.0              NaN        15.0           29.0    476735    22.0   \n",
       "376      8550.0          30900.0       331.0           10.0    479062    21.0   \n",
       "377      9586.5          23000.0       441.0            NaN  13012902     NaN   \n",
       "379      9302.0              NaN       242.0            NaN  44599303     NaN   \n",
       "380     11316.5          20500.0       170.0          119.0    450641    22.0   \n",
       "381      9833.0          21700.0       168.0          104.0    450757    23.0   \n",
       "385      9647.0          28900.0      3859.0          696.0    438805    12.0   \n",
       "389      5500.0          51600.0         NaN           80.0    382416    21.0   \n",
       "390     10167.0              NaN       112.0           58.0    434344    12.0   \n",
       "392      9647.0          28900.0      3859.0          541.0    434520    21.0   \n",
       "396     13144.5          23100.0       529.0          422.0    130509    21.0   \n",
       "399      9647.0          28900.0      3859.0          524.0    128674    21.0   \n",
       "402     12337.0          26500.0       830.0          327.0    129482    13.0   \n",
       "406      7600.0          37100.0       416.0          304.0    128896    21.0   \n",
       "409     10588.0          26900.0       166.0          156.0    129349    21.0   \n",
       "412      6333.0          32600.0        61.0          171.0    362782    21.0   \n",
       "421      9647.0          28900.0      3859.0          449.0    430096    21.0   \n",
       "422      9500.0              NaN         NaN           59.0    373711    22.0   \n",
       "425      7281.0          23200.0       210.0          176.0    373696    12.0   \n",
       "\n",
       "                                                  name  Predicted  \n",
       "0        Connecticut Center for Massage Therapy-Groton          5  \n",
       "1                Paul Mitchell the School-Rhode Island          5  \n",
       "2                      Empire Beauty School-Framingham          5  \n",
       "3                      The Salter School-Malden Campus          5  \n",
       "5                         Rob Roy Academy - Woonsocket          5  \n",
       "10                           Salter School-New Bedford          5  \n",
       "11              Marinello School of Beauty-Willimantic          5  \n",
       "13                  Marinello School of Beauty-Enfield          5  \n",
       "14                      Laird Institute of Spa Therapy          5  \n",
       "15                        Capilo School of Hair Design          5  \n",
       "17                       Millennium Training Institute          5  \n",
       "19                         Stone Academy-East Hartford          5  \n",
       "25            Seacoast Career School-Manchester Campus          5  \n",
       "26                          Spa Tech Institute-Ipswich          5  \n",
       "27                         Spa Tech Institute-Westboro          5  \n",
       "31                  Lincoln Technical Institute-Lowell          5  \n",
       "35              Seacoast Career Schools-Sanford Campus          5  \n",
       "36              Lincoln Technical Institute-Somerville          5  \n",
       "49   New England Tractor Trailer Training School of...          5  \n",
       "50                         Asnuntuck Community College          5  \n",
       "52                Lincoln Technical Institute-Brockton          5  \n",
       "54                Jolie Hair and Beauty Academy-Ludlow          5  \n",
       "55                             Stone Academy-Waterbury          5  \n",
       "58                     Central Maine Community College          5  \n",
       "59                     Eastern Maine Community College          5  \n",
       "60                   Kennebec Valley Community College          5  \n",
       "62                Lowell Academy Hairstyling Institute          5  \n",
       "74                            Cortiva Institute-Boston          5  \n",
       "80                         Rob Roy Academy-New Bedford          5  \n",
       "93              La Baron Hairdressing Academy-Brockton          5  \n",
       "..                                                 ...        ...  \n",
       "342           Assabet Valley Regional Technical School          5  \n",
       "347                Washington County Community College          5  \n",
       "348                         Empire Beauty School-Maine          5  \n",
       "349                       Spa Tech Institute-Westbrook          5  \n",
       "354  New England Tractor Trailer Training School of...          5  \n",
       "358                       Empire Beauty School-Warwick          5  \n",
       "360                       Empire Beauty School-Caribou          5  \n",
       "361                        Empire Beauty School-Bangor          5  \n",
       "364                      Northeast Technical Institute          5  \n",
       "365                            Salter College-Chicopee          5  \n",
       "371  New England Tractor Trailer Training School of...          5  \n",
       "375                                  Alexander Academy          5  \n",
       "376              MotoRing Technical Training Institute          5  \n",
       "377               Marinello School of Beauty-Fairfield          5  \n",
       "379             Marinello School of Beauty-Northampton          5  \n",
       "380                      Empire Beauty School-Hooksett          5  \n",
       "381                    Empire Beauty School-Portsmouth          5  \n",
       "385  Branford Hall Career Institute-Springfield Campus          5  \n",
       "389                    Greater Lowell Technical School          5  \n",
       "390          Toni & Guy Hairdressing Academy-Worcester          5  \n",
       "392  Branford Hall Career Institute-Southington Campus          5  \n",
       "396                           Stone Academy-West Haven          5  \n",
       "399     Branford Hall Career Institute-Branford Campus          5  \n",
       "402                   American Institute-West Hartford          5  \n",
       "406   Connecticut Center for Massage Therapy-Newington          5  \n",
       "409               Paul Mitchell the School-North Haven          5  \n",
       "412  Elizabeth Grady School of Esthetics and Massag...          5  \n",
       "421      Branford Hall Career Institute-Windsor Campus          5  \n",
       "422           Upper Cape Cod Regional Technical School          5  \n",
       "425                          Rob Roy Academy-Worcester          5  \n",
       "\n",
       "[110 rows x 8 columns]"
      ]
     },
     "execution_count": 666,
     "metadata": {},
     "output_type": "execute_result"
    }
   ],
   "source": [
    "df_pre_ss_predicted[df_pre_ss_predicted.Predicted == 5]"
   ]
  },
  {
   "cell_type": "markdown",
   "metadata": {},
   "source": [
    "# Model 2\n",
    "\n",
    "I am going to run the same model, however I am going to remove the rows with null values instead of imputing to see if I can get more precise clusters.  I am also going to take out the column '13repay1yr' as this did not provide as much insight as the other 3 columns."
   ]
  },
  {
   "cell_type": "markdown",
   "metadata": {},
   "source": [
    "Remove rows with null values"
   ]
  },
  {
   "cell_type": "code",
   "execution_count": 553,
   "metadata": {},
   "outputs": [
    {
     "data": {
      "text/plain": [
       "Index(['13Med.Debt', '13earnings10yrs', '13repay1yr', '13studentsize', 'id',\n",
       "       'locale', 'name'],\n",
       "      dtype='object')"
      ]
     },
     "execution_count": 553,
     "metadata": {},
     "output_type": "execute_result"
    }
   ],
   "source": [
    "df.columns"
   ]
  },
  {
   "cell_type": "code",
   "execution_count": 554,
   "metadata": {
    "collapsed": true
   },
   "outputs": [],
   "source": [
    "X2 = df[['13Med.Debt', '13earnings10yrs','13studentsize', 'name']]"
   ]
  },
  {
   "cell_type": "code",
   "execution_count": 555,
   "metadata": {},
   "outputs": [
    {
     "data": {
      "text/plain": [
       "13Med.Debt         76\n",
       "13earnings10yrs    95\n",
       "13studentsize      58\n",
       "name                0\n",
       "dtype: int64"
      ]
     },
     "execution_count": 555,
     "metadata": {},
     "output_type": "execute_result"
    }
   ],
   "source": [
    "X2.isnull().sum()"
   ]
  },
  {
   "cell_type": "code",
   "execution_count": 556,
   "metadata": {},
   "outputs": [
    {
     "data": {
      "text/plain": [
       "13Med.Debt         76\n",
       "13earnings10yrs    95\n",
       "13studentsize      58\n",
       "name                0\n",
       "dtype: int64"
      ]
     },
     "execution_count": 556,
     "metadata": {},
     "output_type": "execute_result"
    }
   ],
   "source": [
    "X2.isnull().sum()"
   ]
  },
  {
   "cell_type": "code",
   "execution_count": 557,
   "metadata": {},
   "outputs": [
    {
     "name": "stderr",
     "output_type": "stream",
     "text": [
      "/Users/jenelleverrochi/anaconda3/lib/python3.6/site-packages/ipykernel_launcher.py:1: SettingWithCopyWarning: \n",
      "A value is trying to be set on a copy of a slice from a DataFrame\n",
      "\n",
      "See the caveats in the documentation: http://pandas.pydata.org/pandas-docs/stable/indexing.html#indexing-view-versus-copy\n",
      "  \"\"\"Entry point for launching an IPython kernel.\n"
     ]
    }
   ],
   "source": [
    "X2.dropna(inplace=True)"
   ]
  },
  {
   "cell_type": "code",
   "execution_count": 558,
   "metadata": {},
   "outputs": [
    {
     "data": {
      "text/plain": [
       "13Med.Debt         0\n",
       "13earnings10yrs    0\n",
       "13studentsize      0\n",
       "name               0\n",
       "dtype: int64"
      ]
     },
     "execution_count": 558,
     "metadata": {},
     "output_type": "execute_result"
    }
   ],
   "source": [
    "X2.isnull().sum()"
   ]
  },
  {
   "cell_type": "code",
   "execution_count": 559,
   "metadata": {},
   "outputs": [
    {
     "data": {
      "text/plain": [
       "(294, 4)"
      ]
     },
     "execution_count": 559,
     "metadata": {},
     "output_type": "execute_result"
    }
   ],
   "source": [
    "X2.shape\n",
    "#This removed a lot of our data unfortunately.  I will still run through the process to see what the results are."
   ]
  },
  {
   "cell_type": "markdown",
   "metadata": {},
   "source": [
    "Standardize"
   ]
  },
  {
   "cell_type": "code",
   "execution_count": 636,
   "metadata": {},
   "outputs": [],
   "source": [
    "X3 = X2[['13Med.Debt', '13earnings10yrs','13studentsize']]"
   ]
  },
  {
   "cell_type": "code",
   "execution_count": 561,
   "metadata": {},
   "outputs": [],
   "source": [
    "ss = StandardScaler()\n",
    "X3_ss = ss.fit_transform(X3)"
   ]
  },
  {
   "cell_type": "code",
   "execution_count": 562,
   "metadata": {
    "collapsed": true
   },
   "outputs": [],
   "source": [
    "X3_ss_df = pd.DataFrame(X3_ss, columns=X3.columns, index=X3.index)"
   ]
  },
  {
   "cell_type": "code",
   "execution_count": 563,
   "metadata": {},
   "outputs": [
    {
     "data": {
      "text/plain": [
       "(294, 3)"
      ]
     },
     "execution_count": 563,
     "metadata": {},
     "output_type": "execute_result"
    }
   ],
   "source": [
    "X3_ss_df.shape"
   ]
  },
  {
   "cell_type": "markdown",
   "metadata": {
    "collapsed": true
   },
   "source": [
    "Lets Model using KMeans"
   ]
  },
  {
   "cell_type": "code",
   "execution_count": 610,
   "metadata": {},
   "outputs": [
    {
     "data": {
      "text/plain": [
       "KMeans(algorithm='auto', copy_x=True, init='k-means++', max_iter=300,\n",
       "    n_clusters=5, n_init=10, n_jobs=1, precompute_distances='auto',\n",
       "    random_state=None, tol=0.0001, verbose=0)"
      ]
     },
     "execution_count": 610,
     "metadata": {},
     "output_type": "execute_result"
    }
   ],
   "source": [
    "model2 = KMeans(n_clusters=5)\n",
    "model2.fit(X3_ss_df)"
   ]
  },
  {
   "cell_type": "code",
   "execution_count": 611,
   "metadata": {
    "collapsed": true
   },
   "outputs": [],
   "source": [
    "predicted2 = model2.labels_\n",
    "centroids2 = model2.cluster_centers_"
   ]
  },
  {
   "cell_type": "code",
   "execution_count": 612,
   "metadata": {},
   "outputs": [
    {
     "name": "stdout",
     "output_type": "stream",
     "text": [
      "[0 0 0 0 0 0 0 0 0 0 1 1 0 0 2 3 1 1 1 3 3 1 4 4 0 0 0 0 0 1 0 0 0 0 1 0 3\n",
      " 3 1 1 1 1 1 0 0 3 1 1 1 0 1 1 1 1 1 2 1 1 4 1 0 1 1 1 1 4 1 1 0 0 4 1 1 2\n",
      " 1 0 0 0 0 3 2 1 1 4 1 1 1 0 1 4 1 0 1 0 0 0 0 2 1 0 1 1 1 0 2 1 0 1 1 1 1\n",
      " 2 1 1 4 1 3 3 1 4 0 0 1 0 1 1 0 2 1 3 4 2 3 3 1 1 4 1 1 0 4 4 1 1 1 1 1 4\n",
      " 4 2 3 3 1 0 1 1 1 1 1 1 1 4 0 3 1 0 1 4 1 1 0 0 4 1 1 0 1 1 0 0 0 1 0 1 0\n",
      " 1 0 0 0 0 0 0 0 2 0 2 3 3 1 1 1 3 3 3 0 1 1 1 1 0 1 0 0 1 1 4 1 1 4 0 0 0\n",
      " 4 0 1 1 1 1 1 0 1 0 0 1 3 0 1 1 0 4 1 0 1 1 4 1 1 0 0 0 4 2 2 3 0 4 4 0 1\n",
      " 0 0 0 0 0 1 0 1 0 0 0 2 1 3 0 3 3 0 1 0 0 1 4 0 1 0 1 0 1 1 0 1 0 0 0]\n",
      "[[-0.94406763 -0.68774736 -0.60427701]\n",
      " [ 0.88562285  0.09049946 -0.15816108]\n",
      " [ 0.66178324  0.45615343  3.14591533]\n",
      " [-1.13104224 -0.39152002  1.0677646 ]\n",
      " [ 0.28150851  2.34592561  0.31169545]]\n"
     ]
    }
   ],
   "source": [
    "print(predicted2)\n",
    "print(centroids2)"
   ]
  },
  {
   "cell_type": "code",
   "execution_count": 613,
   "metadata": {},
   "outputs": [
    {
     "data": {
      "text/plain": [
       "294"
      ]
     },
     "execution_count": 613,
     "metadata": {},
     "output_type": "execute_result"
    }
   ],
   "source": [
    "len(predicted2)"
   ]
  },
  {
   "cell_type": "markdown",
   "metadata": {},
   "source": [
    "Add names columns and predicted columns to df"
   ]
  },
  {
   "cell_type": "code",
   "execution_count": 614,
   "metadata": {
    "collapsed": true
   },
   "outputs": [],
   "source": [
    "X3_ss_df_name = pd.concat([X3_ss_df, X2.name], axis=1)"
   ]
  },
  {
   "cell_type": "code",
   "execution_count": 615,
   "metadata": {},
   "outputs": [],
   "source": [
    "X3_ss_df_name['predicted'] = predicted2"
   ]
  },
  {
   "cell_type": "code",
   "execution_count": 616,
   "metadata": {},
   "outputs": [
    {
     "data": {
      "text/html": [
       "<div>\n",
       "<style>\n",
       "    .dataframe thead tr:only-child th {\n",
       "        text-align: right;\n",
       "    }\n",
       "\n",
       "    .dataframe thead th {\n",
       "        text-align: left;\n",
       "    }\n",
       "\n",
       "    .dataframe tbody tr th {\n",
       "        vertical-align: top;\n",
       "    }\n",
       "</style>\n",
       "<table border=\"1\" class=\"dataframe\">\n",
       "  <thead>\n",
       "    <tr style=\"text-align: right;\">\n",
       "      <th></th>\n",
       "      <th>13Med.Debt</th>\n",
       "      <th>13earnings10yrs</th>\n",
       "      <th>13studentsize</th>\n",
       "      <th>name</th>\n",
       "      <th>predicted</th>\n",
       "    </tr>\n",
       "  </thead>\n",
       "  <tbody>\n",
       "    <tr>\n",
       "      <th>0</th>\n",
       "      <td>-1.218608</td>\n",
       "      <td>-0.358187</td>\n",
       "      <td>-0.698336</td>\n",
       "      <td>Connecticut Center for Massage Therapy-Groton</td>\n",
       "      <td>0</td>\n",
       "    </tr>\n",
       "    <tr>\n",
       "      <th>1</th>\n",
       "      <td>-0.858141</td>\n",
       "      <td>-1.008727</td>\n",
       "      <td>-0.689061</td>\n",
       "      <td>Paul Mitchell the School-Rhode Island</td>\n",
       "      <td>0</td>\n",
       "    </tr>\n",
       "    <tr>\n",
       "      <th>2</th>\n",
       "      <td>-0.938502</td>\n",
       "      <td>-1.008727</td>\n",
       "      <td>-0.717185</td>\n",
       "      <td>Empire Beauty School-Framingham</td>\n",
       "      <td>0</td>\n",
       "    </tr>\n",
       "    <tr>\n",
       "      <th>3</th>\n",
       "      <td>-1.142759</td>\n",
       "      <td>-0.847436</td>\n",
       "      <td>-0.642088</td>\n",
       "      <td>The Salter School-Malden Campus</td>\n",
       "      <td>0</td>\n",
       "    </tr>\n",
       "    <tr>\n",
       "      <th>10</th>\n",
       "      <td>-1.142759</td>\n",
       "      <td>-0.847436</td>\n",
       "      <td>-0.650465</td>\n",
       "      <td>Salter School-New Bedford</td>\n",
       "      <td>0</td>\n",
       "    </tr>\n",
       "  </tbody>\n",
       "</table>\n",
       "</div>"
      ],
      "text/plain": [
       "    13Med.Debt  13earnings10yrs  13studentsize  \\\n",
       "0    -1.218608        -0.358187      -0.698336   \n",
       "1    -0.858141        -1.008727      -0.689061   \n",
       "2    -0.938502        -1.008727      -0.717185   \n",
       "3    -1.142759        -0.847436      -0.642088   \n",
       "10   -1.142759        -0.847436      -0.650465   \n",
       "\n",
       "                                             name  predicted  \n",
       "0   Connecticut Center for Massage Therapy-Groton          0  \n",
       "1           Paul Mitchell the School-Rhode Island          0  \n",
       "2                 Empire Beauty School-Framingham          0  \n",
       "3                 The Salter School-Malden Campus          0  \n",
       "10                      Salter School-New Bedford          0  "
      ]
     },
     "execution_count": 616,
     "metadata": {},
     "output_type": "execute_result"
    }
   ],
   "source": [
    "X3_ss_df_name.head()"
   ]
  },
  {
   "cell_type": "code",
   "execution_count": 617,
   "metadata": {},
   "outputs": [
    {
     "data": {
      "text/plain": [
       "1    123\n",
       "0    104\n",
       "4     27\n",
       "3     25\n",
       "2     15\n",
       "Name: predicted, dtype: int64"
      ]
     },
     "execution_count": 617,
     "metadata": {},
     "output_type": "execute_result"
    }
   ],
   "source": [
    "X3_ss_df_name.predicted.value_counts()"
   ]
  },
  {
   "cell_type": "code",
   "execution_count": 623,
   "metadata": {},
   "outputs": [
    {
     "data": {
      "text/html": [
       "<div>\n",
       "<style>\n",
       "    .dataframe thead tr:only-child th {\n",
       "        text-align: right;\n",
       "    }\n",
       "\n",
       "    .dataframe thead th {\n",
       "        text-align: left;\n",
       "    }\n",
       "\n",
       "    .dataframe tbody tr th {\n",
       "        vertical-align: top;\n",
       "    }\n",
       "</style>\n",
       "<table border=\"1\" class=\"dataframe\">\n",
       "  <thead>\n",
       "    <tr style=\"text-align: right;\">\n",
       "      <th></th>\n",
       "      <th>13Med.Debt</th>\n",
       "      <th>13earnings10yrs</th>\n",
       "      <th>13studentsize</th>\n",
       "      <th>name</th>\n",
       "      <th>predicted</th>\n",
       "    </tr>\n",
       "  </thead>\n",
       "  <tbody>\n",
       "    <tr>\n",
       "      <th>37</th>\n",
       "      <td>0.567874</td>\n",
       "      <td>0.281601</td>\n",
       "      <td>2.100615</td>\n",
       "      <td>Central Connecticut State University</td>\n",
       "      <td>2</td>\n",
       "    </tr>\n",
       "    <tr>\n",
       "      <th>88</th>\n",
       "      <td>1.147109</td>\n",
       "      <td>1.518165</td>\n",
       "      <td>4.179408</td>\n",
       "      <td>Boston University</td>\n",
       "      <td>2</td>\n",
       "    </tr>\n",
       "    <tr>\n",
       "      <th>108</th>\n",
       "      <td>1.147109</td>\n",
       "      <td>0.512784</td>\n",
       "      <td>2.931175</td>\n",
       "      <td>University of New Hampshire-Main Campus</td>\n",
       "      <td>2</td>\n",
       "    </tr>\n",
       "    <tr>\n",
       "      <th>116</th>\n",
       "      <td>1.147109</td>\n",
       "      <td>-0.196896</td>\n",
       "      <td>1.967474</td>\n",
       "      <td>Johnson &amp; Wales University-Providence</td>\n",
       "      <td>2</td>\n",
       "    </tr>\n",
       "    <tr>\n",
       "      <th>134</th>\n",
       "      <td>0.343863</td>\n",
       "      <td>0.141815</td>\n",
       "      <td>4.392433</td>\n",
       "      <td>Southern New Hampshire University</td>\n",
       "      <td>2</td>\n",
       "    </tr>\n",
       "    <tr>\n",
       "      <th>144</th>\n",
       "      <td>0.476416</td>\n",
       "      <td>0.523537</td>\n",
       "      <td>2.237645</td>\n",
       "      <td>University of Vermont</td>\n",
       "      <td>2</td>\n",
       "    </tr>\n",
       "    <tr>\n",
       "      <th>154</th>\n",
       "      <td>0.423065</td>\n",
       "      <td>0.980528</td>\n",
       "      <td>4.545620</td>\n",
       "      <td>University of Connecticut</td>\n",
       "      <td>2</td>\n",
       "    </tr>\n",
       "    <tr>\n",
       "      <th>172</th>\n",
       "      <td>1.037359</td>\n",
       "      <td>0.157944</td>\n",
       "      <td>1.833435</td>\n",
       "      <td>University of Maine</td>\n",
       "      <td>2</td>\n",
       "    </tr>\n",
       "    <tr>\n",
       "      <th>177</th>\n",
       "      <td>1.269053</td>\n",
       "      <td>1.383756</td>\n",
       "      <td>3.205235</td>\n",
       "      <td>Northeastern University</td>\n",
       "      <td>2</td>\n",
       "    </tr>\n",
       "    <tr>\n",
       "      <th>196</th>\n",
       "      <td>0.786764</td>\n",
       "      <td>0.104181</td>\n",
       "      <td>2.093733</td>\n",
       "      <td>Bridgewater State University</td>\n",
       "      <td>2</td>\n",
       "    </tr>\n",
       "    <tr>\n",
       "      <th>281</th>\n",
       "      <td>0.781276</td>\n",
       "      <td>0.614935</td>\n",
       "      <td>5.738802</td>\n",
       "      <td>University of Massachusetts-Amherst</td>\n",
       "      <td>2</td>\n",
       "    </tr>\n",
       "    <tr>\n",
       "      <th>284</th>\n",
       "      <td>0.811762</td>\n",
       "      <td>0.620312</td>\n",
       "      <td>2.793546</td>\n",
       "      <td>University of Massachusetts-Lowell</td>\n",
       "      <td>2</td>\n",
       "    </tr>\n",
       "    <tr>\n",
       "      <th>351</th>\n",
       "      <td>-1.307383</td>\n",
       "      <td>-0.578618</td>\n",
       "      <td>4.297888</td>\n",
       "      <td>Community College of Rhode Island</td>\n",
       "      <td>2</td>\n",
       "    </tr>\n",
       "    <tr>\n",
       "      <th>352</th>\n",
       "      <td>0.605677</td>\n",
       "      <td>0.668699</td>\n",
       "      <td>3.146594</td>\n",
       "      <td>University of Rhode Island</td>\n",
       "      <td>2</td>\n",
       "    </tr>\n",
       "    <tr>\n",
       "      <th>393</th>\n",
       "      <td>0.689696</td>\n",
       "      <td>0.109557</td>\n",
       "      <td>1.725128</td>\n",
       "      <td>Southern Connecticut State University</td>\n",
       "      <td>2</td>\n",
       "    </tr>\n",
       "  </tbody>\n",
       "</table>\n",
       "</div>"
      ],
      "text/plain": [
       "     13Med.Debt  13earnings10yrs  13studentsize  \\\n",
       "37     0.567874         0.281601       2.100615   \n",
       "88     1.147109         1.518165       4.179408   \n",
       "108    1.147109         0.512784       2.931175   \n",
       "116    1.147109        -0.196896       1.967474   \n",
       "134    0.343863         0.141815       4.392433   \n",
       "144    0.476416         0.523537       2.237645   \n",
       "154    0.423065         0.980528       4.545620   \n",
       "172    1.037359         0.157944       1.833435   \n",
       "177    1.269053         1.383756       3.205235   \n",
       "196    0.786764         0.104181       2.093733   \n",
       "281    0.781276         0.614935       5.738802   \n",
       "284    0.811762         0.620312       2.793546   \n",
       "351   -1.307383        -0.578618       4.297888   \n",
       "352    0.605677         0.668699       3.146594   \n",
       "393    0.689696         0.109557       1.725128   \n",
       "\n",
       "                                        name  predicted  \n",
       "37      Central Connecticut State University          2  \n",
       "88                         Boston University          2  \n",
       "108  University of New Hampshire-Main Campus          2  \n",
       "116    Johnson & Wales University-Providence          2  \n",
       "134        Southern New Hampshire University          2  \n",
       "144                    University of Vermont          2  \n",
       "154                University of Connecticut          2  \n",
       "172                      University of Maine          2  \n",
       "177                  Northeastern University          2  \n",
       "196             Bridgewater State University          2  \n",
       "281      University of Massachusetts-Amherst          2  \n",
       "284       University of Massachusetts-Lowell          2  \n",
       "351        Community College of Rhode Island          2  \n",
       "352               University of Rhode Island          2  \n",
       "393    Southern Connecticut State University          2  "
      ]
     },
     "execution_count": 623,
     "metadata": {},
     "output_type": "execute_result"
    }
   ],
   "source": [
    "X3_ss_df_name[X3_ss_df_name.predicted == 2]"
   ]
  },
  {
   "cell_type": "code",
   "execution_count": 619,
   "metadata": {},
   "outputs": [
    {
     "name": "stdout",
     "output_type": "stream",
     "text": [
      "Inertia          =  225.772101452\n",
      "Silhouette score =  0.471714924365\n"
     ]
    }
   ],
   "source": [
    "inertia = model2.inertia_\n",
    "sil_score = silhouette_score(X3_ss_df, predicted2, metric='euclidean')\n",
    "\n",
    "print('Inertia          = ', inertia)\n",
    "print('Silhouette score = ', sil_score)"
   ]
  },
  {
   "cell_type": "markdown",
   "metadata": {},
   "source": [
    "By removing the nulls and removing the column '13repay1year' I was able to reduce inertia by 153 and increase the silhouette score by about 8%.  These clusters look a little bit clearner, but the downside is that we lost a good chunk of data.  In this case I would still recommend going with this second model as the data is 100% accurate."
   ]
  },
  {
   "cell_type": "code",
   "execution_count": 629,
   "metadata": {},
   "outputs": [
    {
     "data": {
      "text/html": [
       "<div>\n",
       "<style>\n",
       "    .dataframe thead tr:only-child th {\n",
       "        text-align: right;\n",
       "    }\n",
       "\n",
       "    .dataframe thead th {\n",
       "        text-align: left;\n",
       "    }\n",
       "\n",
       "    .dataframe tbody tr th {\n",
       "        vertical-align: top;\n",
       "    }\n",
       "</style>\n",
       "<table border=\"1\" class=\"dataframe\">\n",
       "  <thead>\n",
       "    <tr style=\"text-align: right;\">\n",
       "      <th></th>\n",
       "      <th>13Med.Debt</th>\n",
       "      <th>13earnings10yrs</th>\n",
       "      <th>13studentsize</th>\n",
       "      <th>name</th>\n",
       "      <th>predicted</th>\n",
       "    </tr>\n",
       "  </thead>\n",
       "  <tbody>\n",
       "    <tr>\n",
       "      <th>0</th>\n",
       "      <td>-1.218608</td>\n",
       "      <td>-0.358187</td>\n",
       "      <td>-0.698336</td>\n",
       "      <td>Connecticut Center for Massage Therapy-Groton</td>\n",
       "      <td>0</td>\n",
       "    </tr>\n",
       "    <tr>\n",
       "      <th>1</th>\n",
       "      <td>-0.858141</td>\n",
       "      <td>-1.008727</td>\n",
       "      <td>-0.689061</td>\n",
       "      <td>Paul Mitchell the School-Rhode Island</td>\n",
       "      <td>0</td>\n",
       "    </tr>\n",
       "    <tr>\n",
       "      <th>2</th>\n",
       "      <td>-0.938502</td>\n",
       "      <td>-1.008727</td>\n",
       "      <td>-0.717185</td>\n",
       "      <td>Empire Beauty School-Framingham</td>\n",
       "      <td>0</td>\n",
       "    </tr>\n",
       "    <tr>\n",
       "      <th>3</th>\n",
       "      <td>-1.142759</td>\n",
       "      <td>-0.847436</td>\n",
       "      <td>-0.642088</td>\n",
       "      <td>The Salter School-Malden Campus</td>\n",
       "      <td>0</td>\n",
       "    </tr>\n",
       "    <tr>\n",
       "      <th>10</th>\n",
       "      <td>-1.142759</td>\n",
       "      <td>-0.847436</td>\n",
       "      <td>-0.650465</td>\n",
       "      <td>Salter School-New Bedford</td>\n",
       "      <td>0</td>\n",
       "    </tr>\n",
       "  </tbody>\n",
       "</table>\n",
       "</div>"
      ],
      "text/plain": [
       "    13Med.Debt  13earnings10yrs  13studentsize  \\\n",
       "0    -1.218608        -0.358187      -0.698336   \n",
       "1    -0.858141        -1.008727      -0.689061   \n",
       "2    -0.938502        -1.008727      -0.717185   \n",
       "3    -1.142759        -0.847436      -0.642088   \n",
       "10   -1.142759        -0.847436      -0.650465   \n",
       "\n",
       "                                             name  predicted  \n",
       "0   Connecticut Center for Massage Therapy-Groton          0  \n",
       "1           Paul Mitchell the School-Rhode Island          0  \n",
       "2                 Empire Beauty School-Framingham          0  \n",
       "3                 The Salter School-Malden Campus          0  \n",
       "10                      Salter School-New Bedford          0  "
      ]
     },
     "execution_count": 629,
     "metadata": {},
     "output_type": "execute_result"
    }
   ],
   "source": [
    "X3_ss_df_name.head()"
   ]
  },
  {
   "cell_type": "code",
   "execution_count": 630,
   "metadata": {},
   "outputs": [
    {
     "data": {
      "text/plain": [
       "<matplotlib.axes._subplots.AxesSubplot at 0x1a246707b8>"
      ]
     },
     "execution_count": 630,
     "metadata": {},
     "output_type": "execute_result"
    },
    {
     "data": {
      "text/plain": [
       "<matplotlib.figure.Figure at 0x1a22869828>"
      ]
     },
     "metadata": {},
     "output_type": "display_data"
    },
    {
     "data": {
      "image/png": "[encoded data removed]",
      "text/plain": [
       "<matplotlib.figure.Figure at 0x1a2466b7b8>"
      ]
     },
     "metadata": {},
     "output_type": "display_data"
    }
   ],
   "source": [
    "plt.figure(figsize=(7,7))\n",
    "X3_ss_df_name.plot(x='13Med.Debt', y='13earnings10yrs', c=X3_ss_df_name['predicted'], kind='scatter', cmap='gist_rainbow', alpha=.7)"
   ]
  },
  {
   "cell_type": "code",
   "execution_count": 632,
   "metadata": {},
   "outputs": [
    {
     "data": {
      "text/plain": [
       "<matplotlib.axes._subplots.AxesSubplot at 0x1a249ff588>"
      ]
     },
     "execution_count": 632,
     "metadata": {},
     "output_type": "execute_result"
    },
    {
     "data": {
      "text/plain": [
       "<matplotlib.figure.Figure at 0x1a24a06eb8>"
      ]
     },
     "metadata": {},
     "output_type": "display_data"
    },
    {
     "data": {
      "image/png": "[encoded data removed]",
      "text/plain": [
       "<matplotlib.figure.Figure at 0x1a2465b6d8>"
      ]
     },
     "metadata": {},
     "output_type": "display_data"
    }
   ],
   "source": [
    "plt.figure(figsize=(7,7))\n",
    "X3_ss_df_name.plot(x='13Med.Debt', y='13studentsize', c=X3_ss_df_name['predicted'], kind='scatter', cmap='gist_rainbow', alpha=.7)"
   ]
  },
  {
   "cell_type": "code",
   "execution_count": 633,
   "metadata": {},
   "outputs": [
    {
     "data": {
      "text/plain": [
       "<matplotlib.axes._subplots.AxesSubplot at 0x1a24b973c8>"
      ]
     },
     "execution_count": 633,
     "metadata": {},
     "output_type": "execute_result"
    },
    {
     "data": {
      "text/plain": [
       "<matplotlib.figure.Figure at 0x1a24bb8630>"
      ]
     },
     "metadata": {},
     "output_type": "display_data"
    },
    {
     "data": {
      "image/png": "[encoded data removed]",
      "text/plain": [
       "<matplotlib.figure.Figure at 0x1a24ba31d0>"
      ]
     },
     "metadata": {},
     "output_type": "display_data"
    }
   ],
   "source": [
    "plt.figure(figsize=(7,7))\n",
    "X3_ss_df_name.plot(x='13earnings10yrs', y='13studentsize', c=X3_ss_df_name['predicted'], kind='scatter', cmap='gist_rainbow', alpha=.7)"
   ]
  },
  {
   "cell_type": "markdown",
   "metadata": {},
   "source": [
    "For this model using 5 clusters, I would describe the clusters as follows:\n",
    "\n",
    "    0 = This group contains beauty schools, massage therapy schools, some smaller community colleges, and other smaller technical schools.  The average debt is 9851.36, average 10 year earnings is 30970.19, and average student size\t471.  The median student size is 250, so most of these student sizes are very small.\n",
    "\n",
    "    1 = This group contains a lot of mid-size, liberal arts schools, along with some smaller state schools and technical schools.  The average debt is 24855.69, the avg 10 year earnings is 45445.52, and the average student size is 1962.\t\n",
    "\n",
    "    2 = This group consists of larger schools, both state and private. An average debt of 23020.10, avg 10 year earning of 52246.66, and an average student size of 13005.\n",
    "\n",
    "    3 = This group is almost exclusivley community colleges throughout the region.  An average debt of 8318.08, an avg 10 year earnings of 36480.00, and an average student size of 6059.\n",
    "\n",
    "    4 = These are the schools that have the highest average 10 year earnings. Most are mid-size. Ivy league schools fall into this bucket.  The average student debt is 19901.66, average 10 year earnings is 87396.29, and the average student size is 3532.\n"
   ]
  },
  {
   "cell_type": "code",
   "execution_count": 640,
   "metadata": {},
   "outputs": [
    {
     "name": "stderr",
     "output_type": "stream",
     "text": [
      "/Users/jenelleverrochi/anaconda3/lib/python3.6/site-packages/ipykernel_launcher.py:1: SettingWithCopyWarning: \n",
      "A value is trying to be set on a copy of a slice from a DataFrame.\n",
      "Try using .loc[row_indexer,col_indexer] = value instead\n",
      "\n",
      "See the caveats in the documentation: http://pandas.pydata.org/pandas-docs/stable/indexing.html#indexing-view-versus-copy\n",
      "  \"\"\"Entry point for launching an IPython kernel.\n"
     ]
    }
   ],
   "source": [
    "X2['predicted'] = predicted2"
   ]
  },
  {
   "cell_type": "code",
   "execution_count": 646,
   "metadata": {},
   "outputs": [
    {
     "data": {
      "text/plain": [
       "1    123\n",
       "0    104\n",
       "4     27\n",
       "3     25\n",
       "2     15\n",
       "Name: predicted, dtype: int64"
      ]
     },
     "execution_count": 646,
     "metadata": {},
     "output_type": "execute_result"
    }
   ],
   "source": [
    "X2.predicted.value_counts()"
   ]
  },
  {
   "cell_type": "code",
   "execution_count": 662,
   "metadata": {},
   "outputs": [
    {
     "data": {
      "text/html": [
       "<div>\n",
       "<style>\n",
       "    .dataframe thead tr:only-child th {\n",
       "        text-align: right;\n",
       "    }\n",
       "\n",
       "    .dataframe thead th {\n",
       "        text-align: left;\n",
       "    }\n",
       "\n",
       "    .dataframe tbody tr th {\n",
       "        vertical-align: top;\n",
       "    }\n",
       "</style>\n",
       "<table border=\"1\" class=\"dataframe\">\n",
       "  <thead>\n",
       "    <tr style=\"text-align: right;\">\n",
       "      <th></th>\n",
       "      <th>13Med.Debt</th>\n",
       "      <th>13earnings10yrs</th>\n",
       "      <th>13studentsize</th>\n",
       "      <th>name</th>\n",
       "      <th>predicted</th>\n",
       "    </tr>\n",
       "  </thead>\n",
       "  <tbody>\n",
       "    <tr>\n",
       "      <th>45</th>\n",
       "      <td>11486.0</td>\n",
       "      <td>118400.0</td>\n",
       "      <td>5422.0</td>\n",
       "      <td>Yale University</td>\n",
       "      <td>4</td>\n",
       "    </tr>\n",
       "    <tr>\n",
       "      <th>46</th>\n",
       "      <td>21500.0</td>\n",
       "      <td>71500.0</td>\n",
       "      <td>2239.0</td>\n",
       "      <td>Trinity College</td>\n",
       "      <td>4</td>\n",
       "    </tr>\n",
       "    <tr>\n",
       "      <th>91</th>\n",
       "      <td>19000.0</td>\n",
       "      <td>90900.0</td>\n",
       "      <td>9465.0</td>\n",
       "      <td>Boston College</td>\n",
       "      <td>4</td>\n",
       "    </tr>\n",
       "    <tr>\n",
       "      <th>99</th>\n",
       "      <td>19000.0</td>\n",
       "      <td>75000.0</td>\n",
       "      <td>1789.0</td>\n",
       "      <td>Bowdoin College</td>\n",
       "      <td>4</td>\n",
       "    </tr>\n",
       "    <tr>\n",
       "      <th>104</th>\n",
       "      <td>16925.0</td>\n",
       "      <td>75700.0</td>\n",
       "      <td>1791.0</td>\n",
       "      <td>Bates College</td>\n",
       "      <td>4</td>\n",
       "    </tr>\n",
       "    <tr>\n",
       "      <th>119</th>\n",
       "      <td>16000.0</td>\n",
       "      <td>87600.0</td>\n",
       "      <td>6182.0</td>\n",
       "      <td>Brown University</td>\n",
       "      <td>4</td>\n",
       "    </tr>\n",
       "    <tr>\n",
       "      <th>125</th>\n",
       "      <td>19500.0</td>\n",
       "      <td>72400.0</td>\n",
       "      <td>2466.0</td>\n",
       "      <td>Middlebury College</td>\n",
       "      <td>4</td>\n",
       "    </tr>\n",
       "    <tr>\n",
       "      <th>157</th>\n",
       "      <td>26000.0</td>\n",
       "      <td>65500.0</td>\n",
       "      <td>6486.0</td>\n",
       "      <td>Quinnipiac University</td>\n",
       "      <td>4</td>\n",
       "    </tr>\n",
       "    <tr>\n",
       "      <th>162</th>\n",
       "      <td>26385.0</td>\n",
       "      <td>77100.0</td>\n",
       "      <td>3721.0</td>\n",
       "      <td>Fairfield University</td>\n",
       "      <td>4</td>\n",
       "    </tr>\n",
       "    <tr>\n",
       "      <th>176</th>\n",
       "      <td>9561.0</td>\n",
       "      <td>68100.0</td>\n",
       "      <td>2347.0</td>\n",
       "      <td>Wellesley College</td>\n",
       "      <td>4</td>\n",
       "    </tr>\n",
       "    <tr>\n",
       "      <th>183</th>\n",
       "      <td>12000.0</td>\n",
       "      <td>73600.0</td>\n",
       "      <td>2051.0</td>\n",
       "      <td>Williams College</td>\n",
       "      <td>4</td>\n",
       "    </tr>\n",
       "    <tr>\n",
       "      <th>187</th>\n",
       "      <td>17900.0</td>\n",
       "      <td>83100.0</td>\n",
       "      <td>5146.0</td>\n",
       "      <td>Tufts University</td>\n",
       "      <td>4</td>\n",
       "    </tr>\n",
       "    <tr>\n",
       "      <th>188</th>\n",
       "      <td>6000.0</td>\n",
       "      <td>136700.0</td>\n",
       "      <td>7278.0</td>\n",
       "      <td>Harvard University</td>\n",
       "      <td>4</td>\n",
       "    </tr>\n",
       "    <tr>\n",
       "      <th>194</th>\n",
       "      <td>27000.0</td>\n",
       "      <td>87900.0</td>\n",
       "      <td>1362.0</td>\n",
       "      <td>Massachusetts Maritime Academy</td>\n",
       "      <td>4</td>\n",
       "    </tr>\n",
       "    <tr>\n",
       "      <th>195</th>\n",
       "      <td>27000.0</td>\n",
       "      <td>80400.0</td>\n",
       "      <td>2878.0</td>\n",
       "      <td>College of the Holy Cross</td>\n",
       "      <td>4</td>\n",
       "    </tr>\n",
       "    <tr>\n",
       "      <th>210</th>\n",
       "      <td>11000.0</td>\n",
       "      <td>82000.0</td>\n",
       "      <td>1785.0</td>\n",
       "      <td>Amherst College</td>\n",
       "      <td>4</td>\n",
       "    </tr>\n",
       "    <tr>\n",
       "      <th>216</th>\n",
       "      <td>27000.0</td>\n",
       "      <td>100300.0</td>\n",
       "      <td>994.0</td>\n",
       "      <td>Maine Maritime Academy</td>\n",
       "      <td>4</td>\n",
       "    </tr>\n",
       "    <tr>\n",
       "      <th>223</th>\n",
       "      <td>13000.0</td>\n",
       "      <td>142100.0</td>\n",
       "      <td>4510.0</td>\n",
       "      <td>Massachusetts Institute of Technology</td>\n",
       "      <td>4</td>\n",
       "    </tr>\n",
       "    <tr>\n",
       "      <th>308</th>\n",
       "      <td>25000.0</td>\n",
       "      <td>102700.0</td>\n",
       "      <td>3808.0</td>\n",
       "      <td>MCPHS University</td>\n",
       "      <td>4</td>\n",
       "    </tr>\n",
       "    <tr>\n",
       "      <th>311</th>\n",
       "      <td>27000.0</td>\n",
       "      <td>87200.0</td>\n",
       "      <td>4172.0</td>\n",
       "      <td>Bentley University</td>\n",
       "      <td>4</td>\n",
       "    </tr>\n",
       "    <tr>\n",
       "      <th>315</th>\n",
       "      <td>27000.0</td>\n",
       "      <td>82700.0</td>\n",
       "      <td>4012.0</td>\n",
       "      <td>Worcester Polytechnic Institute</td>\n",
       "      <td>4</td>\n",
       "    </tr>\n",
       "    <tr>\n",
       "      <th>335</th>\n",
       "      <td>11957.0</td>\n",
       "      <td>104000.0</td>\n",
       "      <td>4154.0</td>\n",
       "      <td>Dartmouth College</td>\n",
       "      <td>4</td>\n",
       "    </tr>\n",
       "    <tr>\n",
       "      <th>343</th>\n",
       "      <td>27000.0</td>\n",
       "      <td>108500.0</td>\n",
       "      <td>2106.0</td>\n",
       "      <td>Babson College</td>\n",
       "      <td>4</td>\n",
       "    </tr>\n",
       "    <tr>\n",
       "      <th>350</th>\n",
       "      <td>19131.0</td>\n",
       "      <td>73400.0</td>\n",
       "      <td>1820.0</td>\n",
       "      <td>Colby College</td>\n",
       "      <td>4</td>\n",
       "    </tr>\n",
       "    <tr>\n",
       "      <th>356</th>\n",
       "      <td>27000.0</td>\n",
       "      <td>68000.0</td>\n",
       "      <td>3969.0</td>\n",
       "      <td>Providence College</td>\n",
       "      <td>4</td>\n",
       "    </tr>\n",
       "    <tr>\n",
       "      <th>357</th>\n",
       "      <td>27000.0</td>\n",
       "      <td>73500.0</td>\n",
       "      <td>3263.0</td>\n",
       "      <td>Bryant University</td>\n",
       "      <td>4</td>\n",
       "    </tr>\n",
       "    <tr>\n",
       "      <th>405</th>\n",
       "      <td>20000.0</td>\n",
       "      <td>71400.0</td>\n",
       "      <td>171.0</td>\n",
       "      <td>Bridgeport Hospital School of Nursing</td>\n",
       "      <td>4</td>\n",
       "    </tr>\n",
       "  </tbody>\n",
       "</table>\n",
       "</div>"
      ],
      "text/plain": [
       "     13Med.Debt  13earnings10yrs  13studentsize  \\\n",
       "45      11486.0         118400.0         5422.0   \n",
       "46      21500.0          71500.0         2239.0   \n",
       "91      19000.0          90900.0         9465.0   \n",
       "99      19000.0          75000.0         1789.0   \n",
       "104     16925.0          75700.0         1791.0   \n",
       "119     16000.0          87600.0         6182.0   \n",
       "125     19500.0          72400.0         2466.0   \n",
       "157     26000.0          65500.0         6486.0   \n",
       "162     26385.0          77100.0         3721.0   \n",
       "176      9561.0          68100.0         2347.0   \n",
       "183     12000.0          73600.0         2051.0   \n",
       "187     17900.0          83100.0         5146.0   \n",
       "188      6000.0         136700.0         7278.0   \n",
       "194     27000.0          87900.0         1362.0   \n",
       "195     27000.0          80400.0         2878.0   \n",
       "210     11000.0          82000.0         1785.0   \n",
       "216     27000.0         100300.0          994.0   \n",
       "223     13000.0         142100.0         4510.0   \n",
       "308     25000.0         102700.0         3808.0   \n",
       "311     27000.0          87200.0         4172.0   \n",
       "315     27000.0          82700.0         4012.0   \n",
       "335     11957.0         104000.0         4154.0   \n",
       "343     27000.0         108500.0         2106.0   \n",
       "350     19131.0          73400.0         1820.0   \n",
       "356     27000.0          68000.0         3969.0   \n",
       "357     27000.0          73500.0         3263.0   \n",
       "405     20000.0          71400.0          171.0   \n",
       "\n",
       "                                      name  predicted  \n",
       "45                         Yale University          4  \n",
       "46                         Trinity College          4  \n",
       "91                          Boston College          4  \n",
       "99                         Bowdoin College          4  \n",
       "104                          Bates College          4  \n",
       "119                       Brown University          4  \n",
       "125                     Middlebury College          4  \n",
       "157                  Quinnipiac University          4  \n",
       "162                   Fairfield University          4  \n",
       "176                      Wellesley College          4  \n",
       "183                       Williams College          4  \n",
       "187                       Tufts University          4  \n",
       "188                     Harvard University          4  \n",
       "194         Massachusetts Maritime Academy          4  \n",
       "195              College of the Holy Cross          4  \n",
       "210                        Amherst College          4  \n",
       "216                 Maine Maritime Academy          4  \n",
       "223  Massachusetts Institute of Technology          4  \n",
       "308                       MCPHS University          4  \n",
       "311                     Bentley University          4  \n",
       "315        Worcester Polytechnic Institute          4  \n",
       "335                      Dartmouth College          4  \n",
       "343                         Babson College          4  \n",
       "350                          Colby College          4  \n",
       "356                     Providence College          4  \n",
       "357                      Bryant University          4  \n",
       "405  Bridgeport Hospital School of Nursing          4  "
      ]
     },
     "execution_count": 662,
     "metadata": {},
     "output_type": "execute_result"
    }
   ],
   "source": [
    "X2[X2.predicted == 4 ]"
   ]
  },
  {
   "cell_type": "code",
   "execution_count": null,
   "metadata": {
    "collapsed": true
   },
   "outputs": [],
   "source": []
  },
  {
   "cell_type": "code",
   "execution_count": null,
   "metadata": {
    "collapsed": true
   },
   "outputs": [],
   "source": []
  },
  {
   "cell_type": "code",
   "execution_count": null,
   "metadata": {
    "collapsed": true
   },
   "outputs": [],
   "source": []
  }
 ],
 "metadata": {
  "kernelspec": {
   "display_name": "Python 3",
   "language": "python",
   "name": "python3"
  },
  "language_info": {
   "codemirror_mode": {
    "name": "ipython",
    "version": 3
   },
   "file_extension": ".py",
   "mimetype": "text/x-python",
   "name": "python",
   "nbconvert_exporter": "python",
   "pygments_lexer": "ipython3",
   "version": "3.6.2"
  }
 },
 "nbformat": 4,
 "nbformat_minor": 2
}
